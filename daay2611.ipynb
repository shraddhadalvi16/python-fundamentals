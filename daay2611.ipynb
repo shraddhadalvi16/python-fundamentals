{
 "cells": [
  {
   "cell_type": "markdown",
   "id": "e51c14c7",
   "metadata": {},
   "source": [
    "## object oriented programming"
   ]
  },
  {
   "cell_type": "code",
   "execution_count": 1,
   "id": "7305ba95",
   "metadata": {},
   "outputs": [],
   "source": [
    "class Emp:\n",
    "    pass"
   ]
  },
  {
   "cell_type": "markdown",
   "id": "467ad92d",
   "metadata": {},
   "source": [
    "## define class"
   ]
  },
  {
   "cell_type": "code",
   "execution_count": 8,
   "id": "95533483",
   "metadata": {},
   "outputs": [],
   "source": [
    "class student:\n",
    "    \n",
    "    def introduction(self):\n",
    "        print(f\"my name is {self.name}\")"
   ]
  },
  {
   "cell_type": "markdown",
   "id": "7822d245",
   "metadata": {},
   "source": [
    "## create object1"
   ]
  },
  {
   "cell_type": "code",
   "execution_count": 26,
   "id": "82b7b2d3",
   "metadata": {},
   "outputs": [],
   "source": [
    "obj1  = student()"
   ]
  },
  {
   "cell_type": "code",
   "execution_count": 27,
   "id": "71be1926",
   "metadata": {},
   "outputs": [],
   "source": [
    "obj1.name = 'JAY'"
   ]
  },
  {
   "cell_type": "code",
   "execution_count": 14,
   "id": "aa3adeab",
   "metadata": {},
   "outputs": [
    {
     "name": "stdout",
     "output_type": "stream",
     "text": [
      "my name is JAY\n"
     ]
    }
   ],
   "source": [
    "obj1.introduction()"
   ]
  },
  {
   "cell_type": "markdown",
   "id": "121b76fd",
   "metadata": {},
   "source": [
    "## create object 2"
   ]
  },
  {
   "cell_type": "code",
   "execution_count": 15,
   "id": "5020a254",
   "metadata": {},
   "outputs": [],
   "source": [
    "obj2 = student()"
   ]
  },
  {
   "cell_type": "code",
   "execution_count": 16,
   "id": "b8235e0b",
   "metadata": {},
   "outputs": [],
   "source": [
    "obj2.name = 'MOHINI'"
   ]
  },
  {
   "cell_type": "code",
   "execution_count": 17,
   "id": "6480a999",
   "metadata": {},
   "outputs": [
    {
     "name": "stdout",
     "output_type": "stream",
     "text": [
      "my name is MOHINI\n"
     ]
    }
   ],
   "source": [
    "obj2.introduction()"
   ]
  },
  {
   "cell_type": "code",
   "execution_count": 18,
   "id": "a7ae6556",
   "metadata": {},
   "outputs": [
    {
     "data": {
      "text/plain": [
       "2269672200848"
      ]
     },
     "execution_count": 18,
     "metadata": {},
     "output_type": "execute_result"
    }
   ],
   "source": [
    "id(obj)"
   ]
  },
  {
   "cell_type": "code",
   "execution_count": 19,
   "id": "e4987622",
   "metadata": {},
   "outputs": [
    {
     "data": {
      "text/plain": [
       "2269672196304"
      ]
     },
     "execution_count": 19,
     "metadata": {},
     "output_type": "execute_result"
    }
   ],
   "source": [
    "id(obj2)"
   ]
  },
  {
   "cell_type": "code",
   "execution_count": 20,
   "id": "169d740d",
   "metadata": {},
   "outputs": [
    {
     "data": {
      "text/plain": [
       "2269672196304"
      ]
     },
     "execution_count": 20,
     "metadata": {},
     "output_type": "execute_result"
    }
   ],
   "source": [
    "id(obj2)"
   ]
  },
  {
   "cell_type": "code",
   "execution_count": 24,
   "id": "d25bc143",
   "metadata": {},
   "outputs": [
    {
     "data": {
      "text/plain": [
       "['__class__',\n",
       " '__delattr__',\n",
       " '__dict__',\n",
       " '__dir__',\n",
       " '__doc__',\n",
       " '__eq__',\n",
       " '__format__',\n",
       " '__ge__',\n",
       " '__getattribute__',\n",
       " '__getstate__',\n",
       " '__gt__',\n",
       " '__hash__',\n",
       " '__init__',\n",
       " '__init_subclass__',\n",
       " '__le__',\n",
       " '__lt__',\n",
       " '__module__',\n",
       " '__ne__',\n",
       " '__new__',\n",
       " '__reduce__',\n",
       " '__reduce_ex__',\n",
       " '__repr__',\n",
       " '__setattr__',\n",
       " '__sizeof__',\n",
       " '__str__',\n",
       " '__subclasshook__',\n",
       " '__weakref__',\n",
       " 'introduction',\n",
       " 'name']"
      ]
     },
     "execution_count": 24,
     "metadata": {},
     "output_type": "execute_result"
    }
   ],
   "source": [
    "dir(obj1)"
   ]
  },
  {
   "cell_type": "code",
   "execution_count": 60,
   "id": "1b4d8719",
   "metadata": {},
   "outputs": [
    {
     "data": {
      "text/plain": [
       "{'name': 'Ashish', 'gender': 'M', 'education': 'MS in AI', 'profession': 'AI'}"
      ]
     },
     "execution_count": 60,
     "metadata": {},
     "output_type": "execute_result"
    }
   ],
   "source": [
    "obj1.__dict__"
   ]
  },
  {
   "cell_type": "markdown",
   "id": "aca5eb86",
   "metadata": {},
   "source": [
    "## constructor"
   ]
  },
  {
   "cell_type": "code",
   "execution_count": 58,
   "id": "a9b5e887",
   "metadata": {},
   "outputs": [],
   "source": [
    "class Person:\n",
    "    def __init__(self, name, gender, education, profession):\n",
    "        self.name = name\n",
    "        self.gender = gender\n",
    "        self.education = education\n",
    "        self.profession = profession\n",
    "        \n",
    "    def show(self):\n",
    "        print(f\"name: {self.name}, gender: {self.gender}, education: {self.education}, profession: {self.profession}\")"
   ]
  },
  {
   "cell_type": "code",
   "execution_count": 59,
   "id": "40b178de",
   "metadata": {},
   "outputs": [],
   "source": [
    "obj1 = Person(name = 'Ashish', gender = 'M', education = 'MS in AI', profession = 'AI')"
   ]
  },
  {
   "cell_type": "code",
   "execution_count": 61,
   "id": "84ccbe18",
   "metadata": {},
   "outputs": [
    {
     "data": {
      "text/plain": [
       "{'name': 'Ashish', 'gender': 'M', 'education': 'MS in AI', 'profession': 'AI'}"
      ]
     },
     "execution_count": 61,
     "metadata": {},
     "output_type": "execute_result"
    }
   ],
   "source": [
    "obj1.__dict__"
   ]
  },
  {
   "cell_type": "code",
   "execution_count": 62,
   "id": "d129871c",
   "metadata": {},
   "outputs": [
    {
     "name": "stdout",
     "output_type": "stream",
     "text": [
      "258\n"
     ]
    },
    {
     "data": {
      "text/plain": [
       "'258'"
      ]
     },
     "execution_count": 62,
     "metadata": {},
     "output_type": "execute_result"
    }
   ],
   "source": [
    "input()"
   ]
  },
  {
   "cell_type": "code",
   "execution_count": 63,
   "id": "e4631b7c",
   "metadata": {},
   "outputs": [],
   "source": [
    "class circle:\n",
    "    \n",
    "    def __init__(self,radius):\n",
    "        self.radius = radius\n",
    "        self.pi = 3.14\n",
    "        \n",
    "    def area(self):\n",
    "        \n",
    "        circle_area = self.pi * self.radius * self.radius\n",
    "        \n",
    "        print(f\"Area of circle with radius {self.radius} is{round(circle_area,3)}\")\n",
    "        \n",
    "        \n",
    "    def circumference(self):\n",
    "        \n",
    "        circle_circumference = 2 * self.pi * self.radius\n",
    "        \n",
    "        print(f\"circumference of circle with radius {self.radius} is {round(circle_circumference,4)}\")\n",
    "        \n",
    "        "
   ]
  },
  {
   "cell_type": "code",
   "execution_count": 72,
   "id": "33b41376",
   "metadata": {},
   "outputs": [],
   "source": [
    "obj = circle(55.3)"
   ]
  },
  {
   "cell_type": "code",
   "execution_count": 76,
   "id": "b4205506",
   "metadata": {},
   "outputs": [
    {
     "data": {
      "text/plain": [
       "{'radius': 55.3, 'pi': 3.14}"
      ]
     },
     "execution_count": 76,
     "metadata": {},
     "output_type": "execute_result"
    }
   ],
   "source": [
    "obj.__dict__"
   ]
  },
  {
   "cell_type": "code",
   "execution_count": 74,
   "id": "9e82047c",
   "metadata": {},
   "outputs": [
    {
     "name": "stdout",
     "output_type": "stream",
     "text": [
      "Area of circle with radius 55.3 is9602.403\n"
     ]
    }
   ],
   "source": [
    "obj.area()"
   ]
  },
  {
   "cell_type": "code",
   "execution_count": 75,
   "id": "d081aa66",
   "metadata": {},
   "outputs": [
    {
     "name": "stdout",
     "output_type": "stream",
     "text": [
      "circumference of circle with radius 55.3 is 347.284\n"
     ]
    }
   ],
   "source": [
    "obj.circumference()"
   ]
  },
  {
   "cell_type": "code",
   "execution_count": 107,
   "id": "d7b93733",
   "metadata": {},
   "outputs": [],
   "source": [
    "class BankAccount:\n",
    "    def __init__(self,name,amount,interest_rate):\n",
    "        self.name = name\n",
    "        self.amount = amount\n",
    "        self.interest_rate = interest_rate\n",
    "        \n",
    "    def apply_interest(self):\n",
    "        self.amount = self.amount +self.amount * self.interest_rate / 100\n",
    "        \n",
    "    def balance(self):\n",
    "        print(f\"The account balance for {self.name} is {self.amount}\")\n",
    "        \n",
    "    def account_details(self):\n",
    "        print(f\"name: {self.name} \\n balance: {self.account} \\n interest rate: {self.interest_rate}\")"
   ]
  },
  {
   "cell_type": "code",
   "execution_count": 108,
   "id": "08789f0c",
   "metadata": {},
   "outputs": [],
   "source": [
    "obj = BankAccount('ABC',100,3)"
   ]
  },
  {
   "cell_type": "code",
   "execution_count": 109,
   "id": "0e149a04",
   "metadata": {},
   "outputs": [
    {
     "data": {
      "text/plain": [
       "{'name': 'ABC', 'amount': 100, 'interest_rate': 3}"
      ]
     },
     "execution_count": 109,
     "metadata": {},
     "output_type": "execute_result"
    }
   ],
   "source": [
    "obj.__dict__"
   ]
  },
  {
   "cell_type": "code",
   "execution_count": 110,
   "id": "e5ec2a37",
   "metadata": {},
   "outputs": [],
   "source": [
    "obj.apply_interest()"
   ]
  },
  {
   "cell_type": "code",
   "execution_count": 111,
   "id": "39f0ee65",
   "metadata": {},
   "outputs": [
    {
     "name": "stdout",
     "output_type": "stream",
     "text": [
      "The account balance for ABC is 103.0\n"
     ]
    }
   ],
   "source": [
    "obj.balance()"
   ]
  },
  {
   "cell_type": "code",
   "execution_count": null,
   "id": "50a442d2",
   "metadata": {},
   "outputs": [],
   "source": []
  },
  {
   "cell_type": "code",
   "execution_count": 112,
   "id": "a0c73661",
   "metadata": {},
   "outputs": [],
   "source": [
    "obj.interest_rate = 2"
   ]
  },
  {
   "cell_type": "code",
   "execution_count": 113,
   "id": "2070d5c4",
   "metadata": {},
   "outputs": [
    {
     "data": {
      "text/plain": [
       "{'name': 'ABC', 'amount': 103.0, 'interest_rate': 2}"
      ]
     },
     "execution_count": 113,
     "metadata": {},
     "output_type": "execute_result"
    }
   ],
   "source": [
    "obj.__dict__"
   ]
  },
  {
   "cell_type": "code",
   "execution_count": 114,
   "id": "c34c8b59",
   "metadata": {},
   "outputs": [],
   "source": [
    "obj.apply_interest()"
   ]
  },
  {
   "cell_type": "code",
   "execution_count": 115,
   "id": "d051ff47",
   "metadata": {},
   "outputs": [
    {
     "name": "stdout",
     "output_type": "stream",
     "text": [
      "The account balance for ABC is 105.06\n"
     ]
    }
   ],
   "source": [
    "obj.balance()"
   ]
  },
  {
   "cell_type": "code",
   "execution_count": null,
   "id": "752b8a71",
   "metadata": {},
   "outputs": [],
   "source": []
  }
 ],
 "metadata": {
  "kernelspec": {
   "display_name": "Python 3 (ipykernel)",
   "language": "python",
   "name": "python3"
  },
  "language_info": {
   "codemirror_mode": {
    "name": "ipython",
    "version": 3
   },
   "file_extension": ".py",
   "mimetype": "text/x-python",
   "name": "python",
   "nbconvert_exporter": "python",
   "pygments_lexer": "ipython3",
   "version": "3.11.5"
  }
 },
 "nbformat": 4,
 "nbformat_minor": 5
}
