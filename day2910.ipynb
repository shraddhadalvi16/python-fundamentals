{
 "cells": [
  {
   "cell_type": "code",
   "execution_count": 1,
   "id": "8b8d35de",
   "metadata": {},
   "outputs": [],
   "source": [
    "l =[36,25,85,65,45,89,12]"
   ]
  },
  {
   "cell_type": "code",
   "execution_count": 2,
   "id": "5cac002f",
   "metadata": {},
   "outputs": [
    {
     "data": {
      "text/plain": [
       "[36, 25, 85, 65, 45, 89, 12]"
      ]
     },
     "execution_count": 2,
     "metadata": {},
     "output_type": "execute_result"
    }
   ],
   "source": [
    "l"
   ]
  },
  {
   "cell_type": "markdown",
   "id": "c2c5a555",
   "metadata": {},
   "source": [
    "## loop:for"
   ]
  },
  {
   "cell_type": "code",
   "execution_count": 3,
   "id": "7e3cf57b",
   "metadata": {},
   "outputs": [
    {
     "data": {
      "text/plain": [
       "range(0, 10)"
      ]
     },
     "execution_count": 3,
     "metadata": {},
     "output_type": "execute_result"
    }
   ],
   "source": [
    "range(0,10)"
   ]
  },
  {
   "cell_type": "code",
   "execution_count": 5,
   "id": "7e977975",
   "metadata": {},
   "outputs": [
    {
     "name": "stdout",
     "output_type": "stream",
     "text": [
      "0\n",
      "1\n",
      "2\n",
      "3\n",
      "4\n"
     ]
    }
   ],
   "source": [
    "for i in range(0,5):\n",
    "    print(i)"
   ]
  },
  {
   "cell_type": "code",
   "execution_count": 6,
   "id": "d45e781e",
   "metadata": {},
   "outputs": [
    {
     "data": {
      "text/plain": [
       "[36, 25, 85, 65, 45, 89, 12]"
      ]
     },
     "execution_count": 6,
     "metadata": {},
     "output_type": "execute_result"
    }
   ],
   "source": [
    "l"
   ]
  },
  {
   "cell_type": "code",
   "execution_count": 7,
   "id": "d40efe3a",
   "metadata": {},
   "outputs": [
    {
     "data": {
      "text/plain": [
       "7"
      ]
     },
     "execution_count": 7,
     "metadata": {},
     "output_type": "execute_result"
    }
   ],
   "source": [
    "len(l)"
   ]
  },
  {
   "cell_type": "code",
   "execution_count": 8,
   "id": "6a1acdf7",
   "metadata": {},
   "outputs": [
    {
     "name": "stdout",
     "output_type": "stream",
     "text": [
      "36\n",
      "25\n",
      "85\n",
      "65\n",
      "45\n",
      "89\n",
      "12\n"
     ]
    }
   ],
   "source": [
    "for i in range(0,7):\n",
    "    print(l[i])"
   ]
  },
  {
   "cell_type": "code",
   "execution_count": 9,
   "id": "d74681de",
   "metadata": {},
   "outputs": [
    {
     "name": "stdout",
     "output_type": "stream",
     "text": [
      "36\n",
      "25\n",
      "85\n",
      "65\n",
      "45\n",
      "89\n",
      "12\n"
     ]
    }
   ],
   "source": [
    "for i in range(0,len(l)):\n",
    "    print(l[i])"
   ]
  },
  {
   "cell_type": "code",
   "execution_count": 11,
   "id": "57bfd56a",
   "metadata": {},
   "outputs": [
    {
     "data": {
      "text/plain": [
       "[36, 25, 85, 65, 45, 89, 12]"
      ]
     },
     "execution_count": 11,
     "metadata": {},
     "output_type": "execute_result"
    }
   ],
   "source": [
    "l"
   ]
  },
  {
   "cell_type": "code",
   "execution_count": 12,
   "id": "f502af45",
   "metadata": {},
   "outputs": [
    {
     "name": "stdout",
     "output_type": "stream",
     "text": [
      "357\n"
     ]
    }
   ],
   "source": [
    "sum = 0\n",
    "\n",
    "for i in range(0,len(l)):\n",
    "    sum =sum+l[i]\n",
    "    \n",
    "print(sum)    "
   ]
  },
  {
   "cell_type": "code",
   "execution_count": null,
   "id": "2e601c20",
   "metadata": {},
   "outputs": [],
   "source": []
  },
  {
   "cell_type": "code",
   "execution_count": 13,
   "id": "826595a6",
   "metadata": {},
   "outputs": [
    {
     "name": "stdout",
     "output_type": "stream",
     "text": [
      "i\n",
      "n\n",
      "d\n",
      "i\n",
      "a\n"
     ]
    }
   ],
   "source": [
    "word =\"india\"\n",
    "\n",
    "for letter in word:\n",
    "    print(letter)"
   ]
  },
  {
   "cell_type": "markdown",
   "id": "5b335fb2",
   "metadata": {},
   "source": [
    "## multiplication"
   ]
  },
  {
   "cell_type": "code",
   "execution_count": 14,
   "id": "e6363a18",
   "metadata": {},
   "outputs": [
    {
     "name": "stdout",
     "output_type": "stream",
     "text": [
      "5x1 =5\n",
      "5x2 =10\n",
      "5x3 =15\n",
      "5x4 =20\n",
      "5x5 =25\n",
      "5x6 =30\n",
      "5x7 =35\n",
      "5x8 =40\n",
      "5x9 =45\n",
      "5x10 =50\n"
     ]
    }
   ],
   "source": [
    "n = 5\n",
    "\n",
    "for i in range(1,11):\n",
    "    print(f\"{n}x{i} ={n*i}\")"
   ]
  },
  {
   "cell_type": "markdown",
   "id": "d5bf4023",
   "metadata": {},
   "source": [
    "## factorial of a number"
   ]
  },
  {
   "cell_type": "code",
   "execution_count": 15,
   "id": "ad5c9497",
   "metadata": {},
   "outputs": [
    {
     "name": "stdout",
     "output_type": "stream",
     "text": [
      "120\n"
     ]
    }
   ],
   "source": [
    "result =1\n",
    "n=5\n",
    "\n",
    "for i in range(1,n+1):\n",
    "    result = result*i\n",
    "    \n",
    "print(result)    "
   ]
  },
  {
   "cell_type": "markdown",
   "id": "afd3a080",
   "metadata": {},
   "source": [
    "## print the pattern"
   ]
  },
  {
   "cell_type": "markdown",
   "id": "0439991e",
   "metadata": {},
   "source": [
    "## 2.loop:while"
   ]
  },
  {
   "cell_type": "code",
   "execution_count": null,
   "id": "94985b5b",
   "metadata": {},
   "outputs": [],
   "source": [
    "while<condition>:\n",
    "    ptint()"
   ]
  },
  {
   "cell_type": "code",
   "execution_count": 17,
   "id": "24c8fb0d",
   "metadata": {},
   "outputs": [
    {
     "name": "stdout",
     "output_type": "stream",
     "text": [
      "*\n",
      "**\n",
      "***\n",
      "****\n",
      "*****\n"
     ]
    }
   ],
   "source": [
    "n =5\n",
    "i =1\n",
    "\n",
    "while i<=n:\n",
    "    print(\"*\"*i)\n",
    "    \n",
    "    \n",
    "    i = i+1"
   ]
  },
  {
   "cell_type": "code",
   "execution_count": 20,
   "id": "77dd68bb",
   "metadata": {
    "scrolled": true
   },
   "outputs": [
    {
     "ename": "IndentationError",
     "evalue": "unexpected indent (829493851.py, line 4)",
     "output_type": "error",
     "traceback": [
      "\u001b[1;36m  Cell \u001b[1;32mIn[20], line 4\u001b[1;36m\u001b[0m\n\u001b[1;33m    while i>=1:\u001b[0m\n\u001b[1;37m    ^\u001b[0m\n\u001b[1;31mIndentationError\u001b[0m\u001b[1;31m:\u001b[0m unexpected indent\n"
     ]
    }
   ],
   "source": [
    "n =5\n",
    "i =1\n",
    "\n",
    " while i>=1:\n",
    "    print(\"*\"*i)\n",
    "    \n",
    "    i=i-1"
   ]
  },
  {
   "cell_type": "markdown",
   "id": "a9af63cc",
   "metadata": {},
   "source": [
    "## pattern print"
   ]
  },
  {
   "cell_type": "code",
   "execution_count": 23,
   "id": "c1cc816a",
   "metadata": {},
   "outputs": [
    {
     "name": "stdout",
     "output_type": "stream",
     "text": [
      "P\n",
      "Y\n",
      "T\n",
      "H\n",
      "O\n",
      "N\n",
      " \n",
      "I\n",
      "N\n",
      "D\n",
      "I\n",
      "A\n"
     ]
    }
   ],
   "source": [
    "string = \"PYTHON INDIA\"\n",
    "index = 0\n",
    "\n",
    "while index <len(string):\n",
    "    print(string[index])\n",
    "    \n",
    "    index +=1"
   ]
  },
  {
   "cell_type": "markdown",
   "id": "2029376e",
   "metadata": {},
   "source": [
    "## print the number from n to 1"
   ]
  },
  {
   "cell_type": "code",
   "execution_count": 28,
   "id": "f2cb7ec3",
   "metadata": {},
   "outputs": [
    {
     "name": "stdout",
     "output_type": "stream",
     "text": [
      "Enter number:5\n",
      "5\n",
      "4\n",
      "3\n",
      "2\n",
      "1\n"
     ]
    }
   ],
   "source": [
    "num = int(input(\"Enter number:\"))\n",
    "\n",
    "while num >= 1:\n",
    "    print(num)\n",
    "    \n",
    "    num -=1"
   ]
  },
  {
   "cell_type": "code",
   "execution_count": 29,
   "id": "85ce997f",
   "metadata": {},
   "outputs": [
    {
     "name": "stdout",
     "output_type": "stream",
     "text": [
      "7\n",
      "6\n",
      "5\n",
      "4\n",
      "3\n",
      "2\n",
      "1\n"
     ]
    }
   ],
   "source": [
    "num =7\n",
    "while num >= 1:\n",
    "    print(num)\n",
    "    \n",
    "    num -=1"
   ]
  },
  {
   "cell_type": "markdown",
   "id": "371c17d4",
   "metadata": {},
   "source": [
    "## functions"
   ]
  },
  {
   "cell_type": "code",
   "execution_count": 30,
   "id": "12e3ed51",
   "metadata": {},
   "outputs": [
    {
     "data": {
      "text/plain": [
       "[36, 25, 85, 65, 45, 89, 12]"
      ]
     },
     "execution_count": 30,
     "metadata": {},
     "output_type": "execute_result"
    }
   ],
   "source": [
    "l"
   ]
  },
  {
   "cell_type": "code",
   "execution_count": 31,
   "id": "5c394529",
   "metadata": {},
   "outputs": [
    {
     "data": {
      "text/plain": [
       "7"
      ]
     },
     "execution_count": 31,
     "metadata": {},
     "output_type": "execute_result"
    }
   ],
   "source": [
    "len(l)"
   ]
  },
  {
   "cell_type": "code",
   "execution_count": 33,
   "id": "bacb7c50",
   "metadata": {},
   "outputs": [],
   "source": [
    "s = 'INDIA VS ENGLAND'"
   ]
  },
  {
   "cell_type": "code",
   "execution_count": 34,
   "id": "942ac5b6",
   "metadata": {},
   "outputs": [
    {
     "data": {
      "text/plain": [
       "'INDIA VS ENGLAND'"
      ]
     },
     "execution_count": 34,
     "metadata": {},
     "output_type": "execute_result"
    }
   ],
   "source": [
    "s"
   ]
  },
  {
   "cell_type": "code",
   "execution_count": 35,
   "id": "8f871cd4",
   "metadata": {},
   "outputs": [
    {
     "data": {
      "text/plain": [
       "16"
      ]
     },
     "execution_count": 35,
     "metadata": {},
     "output_type": "execute_result"
    }
   ],
   "source": [
    "len(s)"
   ]
  },
  {
   "cell_type": "code",
   "execution_count": 37,
   "id": "7e65965b",
   "metadata": {},
   "outputs": [
    {
     "name": "stdout",
     "output_type": "stream",
     "text": [
      "15\n",
      "16\n",
      "17\n",
      "18\n",
      "19\n"
     ]
    }
   ],
   "source": [
    "for i in range(15,20):\n",
    "    print(i)"
   ]
  },
  {
   "cell_type": "raw",
   "id": "0cf77b8d",
   "metadata": {},
   "source": []
  },
  {
   "cell_type": "code",
   "execution_count": null,
   "id": "d02d49ac",
   "metadata": {},
   "outputs": [],
   "source": [
    "def asdfhjkl():\n",
    "    \n",
    "    \n",
    "    \n",
    "    \n",
    "    \n",
    "    \n",
    "    \n",
    "    \n",
    "    "
   ]
  },
  {
   "cell_type": "code",
   "execution_count": null,
   "id": "b355648e",
   "metadata": {},
   "outputs": [],
   "source": [
    "def my_func():\n",
    "    pass"
   ]
  },
  {
   "cell_type": "code",
   "execution_count": 40,
   "id": "c714af82",
   "metadata": {},
   "outputs": [],
   "source": [
    "def greet():\n",
    "    print(\"hello!\")"
   ]
  },
  {
   "cell_type": "code",
   "execution_count": 41,
   "id": "ffc8a8bc",
   "metadata": {},
   "outputs": [
    {
     "name": "stdout",
     "output_type": "stream",
     "text": [
      "hello!\n"
     ]
    }
   ],
   "source": [
    "greet()"
   ]
  },
  {
   "cell_type": "raw",
   "id": "81e4d241",
   "metadata": {},
   "source": []
  },
  {
   "cell_type": "code",
   "execution_count": 42,
   "id": "f351fc09",
   "metadata": {},
   "outputs": [
    {
     "name": "stdout",
     "output_type": "stream",
     "text": [
      "hello!\n"
     ]
    }
   ],
   "source": [
    "result = greet()"
   ]
  },
  {
   "cell_type": "code",
   "execution_count": 43,
   "id": "4b20e033",
   "metadata": {},
   "outputs": [],
   "source": [
    "def test1():\n",
    "    sum = 1+5\n",
    "    \n",
    "    \n",
    "    return sum"
   ]
  },
  {
   "cell_type": "code",
   "execution_count": 44,
   "id": "86e11952",
   "metadata": {},
   "outputs": [
    {
     "data": {
      "text/plain": [
       "6"
      ]
     },
     "execution_count": 44,
     "metadata": {},
     "output_type": "execute_result"
    }
   ],
   "source": [
    "test1()"
   ]
  },
  {
   "cell_type": "code",
   "execution_count": 48,
   "id": "039c3350",
   "metadata": {},
   "outputs": [],
   "source": [
    "result = test1()"
   ]
  },
  {
   "cell_type": "code",
   "execution_count": 46,
   "id": "58aa3cae",
   "metadata": {},
   "outputs": [
    {
     "name": "stdout",
     "output_type": "stream",
     "text": [
      "None\n"
     ]
    }
   ],
   "source": [
    "print(result)"
   ]
  },
  {
   "cell_type": "code",
   "execution_count": 47,
   "id": "af0514d4",
   "metadata": {},
   "outputs": [
    {
     "data": {
      "text/plain": [
       "NoneType"
      ]
     },
     "execution_count": 47,
     "metadata": {},
     "output_type": "execute_result"
    }
   ],
   "source": [
    "type(result)"
   ]
  },
  {
   "cell_type": "code",
   "execution_count": 50,
   "id": "1555aa1f",
   "metadata": {},
   "outputs": [],
   "source": [
    "def test3():\n",
    "    \n",
    "    li =[1,2,3]\n",
    "    \n",
    "    return li"
   ]
  },
  {
   "cell_type": "code",
   "execution_count": 51,
   "id": "5b506dc7",
   "metadata": {},
   "outputs": [],
   "source": [
    "result = test3()"
   ]
  },
  {
   "cell_type": "code",
   "execution_count": 52,
   "id": "10009c4c",
   "metadata": {},
   "outputs": [
    {
     "name": "stdout",
     "output_type": "stream",
     "text": [
      "[1, 2, 3]\n"
     ]
    }
   ],
   "source": [
    "print(result)"
   ]
  },
  {
   "cell_type": "code",
   "execution_count": 53,
   "id": "52bd745d",
   "metadata": {},
   "outputs": [
    {
     "data": {
      "text/plain": [
       "3"
      ]
     },
     "execution_count": 53,
     "metadata": {},
     "output_type": "execute_result"
    }
   ],
   "source": [
    "len(result)"
   ]
  },
  {
   "cell_type": "code",
   "execution_count": 54,
   "id": "b0ea2d81",
   "metadata": {},
   "outputs": [],
   "source": [
    "def test5():\n",
    "    \n",
    "    name =\"PRAVIN\"\n",
    "    \n",
    "    return name"
   ]
  },
  {
   "cell_type": "code",
   "execution_count": 55,
   "id": "e40d7801",
   "metadata": {},
   "outputs": [],
   "source": [
    "name = test5()"
   ]
  },
  {
   "cell_type": "code",
   "execution_count": 56,
   "id": "83935d04",
   "metadata": {},
   "outputs": [
    {
     "data": {
      "text/plain": [
       "'PRAVIN'"
      ]
     },
     "execution_count": 56,
     "metadata": {},
     "output_type": "execute_result"
    }
   ],
   "source": [
    "name"
   ]
  },
  {
   "cell_type": "code",
   "execution_count": 59,
   "id": "0a73b330",
   "metadata": {},
   "outputs": [
    {
     "data": {
      "text/plain": [
       "'PRAVINDOLE'"
      ]
     },
     "execution_count": 59,
     "metadata": {},
     "output_type": "execute_result"
    }
   ],
   "source": [
    "test5() +\"DOLE\""
   ]
  },
  {
   "cell_type": "code",
   "execution_count": 60,
   "id": "cd25d174",
   "metadata": {},
   "outputs": [],
   "source": [
    "def test6():\n",
    "    \n",
    "    return 36,58,14,"
   ]
  },
  {
   "cell_type": "code",
   "execution_count": 61,
   "id": "4abae530",
   "metadata": {},
   "outputs": [
    {
     "data": {
      "text/plain": [
       "(36, 58, 14)"
      ]
     },
     "execution_count": 61,
     "metadata": {},
     "output_type": "execute_result"
    }
   ],
   "source": [
    "test6()"
   ]
  },
  {
   "cell_type": "code",
   "execution_count": 62,
   "id": "0091aa7c",
   "metadata": {},
   "outputs": [],
   "source": [
    "def test6():\n",
    "    \n",
    "    return[36,58,14]"
   ]
  },
  {
   "cell_type": "code",
   "execution_count": 63,
   "id": "cfc020ea",
   "metadata": {},
   "outputs": [
    {
     "data": {
      "text/plain": [
       "[36, 58, 14]"
      ]
     },
     "execution_count": 63,
     "metadata": {},
     "output_type": "execute_result"
    }
   ],
   "source": [
    "test6()"
   ]
  },
  {
   "cell_type": "code",
   "execution_count": 64,
   "id": "575ea2ee",
   "metadata": {},
   "outputs": [],
   "source": [
    "a,b,c = test6()"
   ]
  },
  {
   "cell_type": "code",
   "execution_count": 65,
   "id": "fdb65191",
   "metadata": {},
   "outputs": [
    {
     "data": {
      "text/plain": [
       "36"
      ]
     },
     "execution_count": 65,
     "metadata": {},
     "output_type": "execute_result"
    }
   ],
   "source": [
    "a"
   ]
  },
  {
   "cell_type": "code",
   "execution_count": 66,
   "id": "bb5a9f2e",
   "metadata": {},
   "outputs": [
    {
     "data": {
      "text/plain": [
       "58"
      ]
     },
     "execution_count": 66,
     "metadata": {},
     "output_type": "execute_result"
    }
   ],
   "source": [
    "b"
   ]
  },
  {
   "cell_type": "code",
   "execution_count": 67,
   "id": "3e1a5ffe",
   "metadata": {},
   "outputs": [
    {
     "data": {
      "text/plain": [
       "14"
      ]
     },
     "execution_count": 67,
     "metadata": {},
     "output_type": "execute_result"
    }
   ],
   "source": [
    "c"
   ]
  },
  {
   "cell_type": "code",
   "execution_count": 68,
   "id": "f75a0c8d",
   "metadata": {},
   "outputs": [],
   "source": [
    "a,b,c = 1,2,3"
   ]
  },
  {
   "cell_type": "code",
   "execution_count": 69,
   "id": "c0692ce0",
   "metadata": {},
   "outputs": [
    {
     "name": "stdout",
     "output_type": "stream",
     "text": [
      "1\n",
      "2\n",
      "3\n"
     ]
    }
   ],
   "source": [
    "print(a)\n",
    "print(b)\n",
    "print(c)"
   ]
  },
  {
   "cell_type": "code",
   "execution_count": 70,
   "id": "b674f061",
   "metadata": {},
   "outputs": [
    {
     "name": "stdout",
     "output_type": "stream",
     "text": [
      "<class 'int'>\n",
      "<class 'int'>\n",
      "<class 'int'>\n"
     ]
    }
   ],
   "source": [
    "print(type(a))\n",
    "print(type(b))\n",
    "print(type(c))"
   ]
  },
  {
   "cell_type": "code",
   "execution_count": 72,
   "id": "d33b41e6",
   "metadata": {},
   "outputs": [],
   "source": [
    "def test7():\n",
    "    \n",
    "    result = 50/20*6+8-5\n",
    "    \n",
    "    return result"
   ]
  },
  {
   "cell_type": "code",
   "execution_count": 74,
   "id": "0caf3bd7",
   "metadata": {},
   "outputs": [
    {
     "data": {
      "text/plain": [
       "18.0"
      ]
     },
     "execution_count": 74,
     "metadata": {},
     "output_type": "execute_result"
    }
   ],
   "source": [
    "test7()"
   ]
  },
  {
   "cell_type": "code",
   "execution_count": 75,
   "id": "20ddf4ca",
   "metadata": {},
   "outputs": [
    {
     "data": {
      "text/plain": [
       "18.0"
      ]
     },
     "execution_count": 75,
     "metadata": {},
     "output_type": "execute_result"
    }
   ],
   "source": [
    "50/20*6+8-5"
   ]
  },
  {
   "cell_type": "code",
   "execution_count": 85,
   "id": "fb6a5f33",
   "metadata": {},
   "outputs": [],
   "source": [
    "def test8():\n",
    "    \n",
    "    l = [1,2,3,4,5,6,7,8,9,10]\n",
    "    \n",
    "    sum = 0\n",
    "    \n",
    "    for i in l:\n",
    "        \n",
    "        sum = sum + i\n",
    "        \n",
    "    return sum"
   ]
  },
  {
   "cell_type": "code",
   "execution_count": 86,
   "id": "59a1d5b0",
   "metadata": {},
   "outputs": [
    {
     "data": {
      "text/plain": [
       "55"
      ]
     },
     "execution_count": 86,
     "metadata": {},
     "output_type": "execute_result"
    }
   ],
   "source": [
    "test8()"
   ]
  },
  {
   "cell_type": "code",
   "execution_count": 91,
   "id": "d5fafe3b",
   "metadata": {},
   "outputs": [],
   "source": [
    "def test9():\n",
    "    \n",
    "    l =[1,2,3,4,5, 'INDIA','PUNE',6,7,8,'RANI',9,10]\n",
    "    \n",
    "    sum = 0\n",
    "    \n",
    "    for i in l:\n",
    "        \n",
    "        if type(i) ==int:\n",
    "            \n",
    "            sum += i\n",
    "            \n",
    "    return sum"
   ]
  },
  {
   "cell_type": "code",
   "execution_count": 92,
   "id": "ca51f648",
   "metadata": {},
   "outputs": [
    {
     "data": {
      "text/plain": [
       "55"
      ]
     },
     "execution_count": 92,
     "metadata": {},
     "output_type": "execute_result"
    }
   ],
   "source": [
    "test9()"
   ]
  },
  {
   "cell_type": "code",
   "execution_count": 95,
   "id": "8bf2b77c",
   "metadata": {},
   "outputs": [],
   "source": [
    "def test10(my list):\n",
    "    \n",
    "    sum = 0\n",
    "    \n",
    "    for i in list:\n",
    "        \n",
    "        if type(i) ==int:\n",
    "            \n",
    "            sum +=i\n",
    "            \n",
    "    return sum"
   ]
  },
  {
   "cell_type": "code",
   "execution_count": 114,
   "id": "6f8eebf9",
   "metadata": {},
   "outputs": [],
   "source": [
    "def test11(mylist):\n",
    "    \n",
    "    sum = 0\n",
    "    \n",
    "    for i in mylist:\n",
    "        \n",
    "        if type(i) ==int:\n",
    "            \n",
    "            sum += i\n",
    "            \n",
    "    return sum"
   ]
  },
  {
   "cell_type": "code",
   "execution_count": 115,
   "id": "29b91756",
   "metadata": {},
   "outputs": [],
   "source": [
    "l = [1,2,3,4,'a','b','c',5]"
   ]
  },
  {
   "cell_type": "code",
   "execution_count": 116,
   "id": "fe99939b",
   "metadata": {},
   "outputs": [
    {
     "data": {
      "text/plain": [
       "15"
      ]
     },
     "execution_count": 116,
     "metadata": {},
     "output_type": "execute_result"
    }
   ],
   "source": [
    "test11(mylist=l)"
   ]
  },
  {
   "cell_type": "code",
   "execution_count": 118,
   "id": "0e770cfa",
   "metadata": {},
   "outputs": [],
   "source": [
    "def two_no_sum(a,b):\n",
    "    \n",
    "    sum = a + b\n",
    "    \n",
    "   \n",
    "    return sum"
   ]
  },
  {
   "cell_type": "code",
   "execution_count": 119,
   "id": "c5c806ea",
   "metadata": {},
   "outputs": [],
   "source": [
    "a = 2\n",
    "b = 3\n",
    "\n",
    "result = two_no_sum(a,b)"
   ]
  },
  {
   "cell_type": "raw",
   "id": "884b5877",
   "metadata": {},
   "source": [
    "result"
   ]
  },
  {
   "cell_type": "code",
   "execution_count": null,
   "id": "7ab127d8",
   "metadata": {},
   "outputs": [],
   "source": []
  },
  {
   "cell_type": "code",
   "execution_count": null,
   "id": "bf8c68cf",
   "metadata": {},
   "outputs": [],
   "source": [
    "test7()"
   ]
  },
  {
   "cell_type": "code",
   "execution_count": 120,
   "id": "b37a0d86",
   "metadata": {},
   "outputs": [
    {
     "data": {
      "text/plain": [
       "8"
      ]
     },
     "execution_count": 120,
     "metadata": {},
     "output_type": "execute_result"
    }
   ],
   "source": [
    "len(l)"
   ]
  },
  {
   "cell_type": "code",
   "execution_count": 3,
   "id": "7b2d7ff5",
   "metadata": {},
   "outputs": [],
   "source": [
    "l = [1,2,3,4,'a','b','c',5]"
   ]
  },
  {
   "cell_type": "code",
   "execution_count": 4,
   "id": "0f865c92",
   "metadata": {},
   "outputs": [
    {
     "data": {
      "text/plain": [
       "[1, 2, 3, 4, 'a', 'b', 'c', 5]"
      ]
     },
     "execution_count": 4,
     "metadata": {},
     "output_type": "execute_result"
    }
   ],
   "source": [
    "l"
   ]
  },
  {
   "cell_type": "code",
   "execution_count": 5,
   "id": "7db53227",
   "metadata": {},
   "outputs": [
    {
     "data": {
      "text/plain": [
       "['a', 'b', 'c']"
      ]
     },
     "execution_count": 5,
     "metadata": {},
     "output_type": "execute_result"
    }
   ],
   "source": [
    "['a','b','c']"
   ]
  },
  {
   "cell_type": "code",
   "execution_count": 9,
   "id": "2e6d6662",
   "metadata": {},
   "outputs": [],
   "source": [
    "def test12(mylist):\n",
    "    \n",
    "    li = []\n",
    "    \n",
    "    for i in mylist:\n",
    "        \n",
    "        if type(i) == str:\n",
    "            \n",
    "            li.append(i)\n",
    "            \n",
    "            \n",
    "    return li"
   ]
  },
  {
   "cell_type": "code",
   "execution_count": 10,
   "id": "98037c89",
   "metadata": {},
   "outputs": [
    {
     "data": {
      "text/plain": [
       "[1, 2, 3, 4, 'a', 'b', 'c', 5]"
      ]
     },
     "execution_count": 10,
     "metadata": {},
     "output_type": "execute_result"
    }
   ],
   "source": [
    "l"
   ]
  },
  {
   "cell_type": "code",
   "execution_count": 11,
   "id": "412e4c09",
   "metadata": {},
   "outputs": [
    {
     "data": {
      "text/plain": [
       "['a', 'b', 'c']"
      ]
     },
     "execution_count": 11,
     "metadata": {},
     "output_type": "execute_result"
    }
   ],
   "source": [
    "test12(l)"
   ]
  },
  {
   "cell_type": "code",
   "execution_count": 23,
   "id": "97aaf87c",
   "metadata": {},
   "outputs": [],
   "source": [
    "def test13(mylist: list()):\n",
    "    \n",
    "    li_int = []\n",
    "    li_str = []\n",
    "    \n",
    "    for i in mylist:\n",
    "        \n",
    "        if type(i) == str:\n",
    "            li_str.append(i)\n",
    "            \n",
    "        if type(i) == int:\n",
    "            li_int.append(i)\n",
    "        \n",
    "    return li_str,li_int"
   ]
  },
  {
   "cell_type": "code",
   "execution_count": 18,
   "id": "f3cb7fa5",
   "metadata": {},
   "outputs": [
    {
     "data": {
      "text/plain": [
       "[1, 2, 3, 4, 'a', 'b', 'c', 5]"
      ]
     },
     "execution_count": 18,
     "metadata": {},
     "output_type": "execute_result"
    }
   ],
   "source": [
    "l"
   ]
  },
  {
   "cell_type": "code",
   "execution_count": 19,
   "id": "6aff3c05",
   "metadata": {},
   "outputs": [],
   "source": [
    "list_str,list_int = test13(l)"
   ]
  },
  {
   "cell_type": "code",
   "execution_count": 20,
   "id": "abcc5464",
   "metadata": {},
   "outputs": [
    {
     "data": {
      "text/plain": [
       "['a', 'b', 'c']"
      ]
     },
     "execution_count": 20,
     "metadata": {},
     "output_type": "execute_result"
    }
   ],
   "source": [
    "list_str"
   ]
  },
  {
   "cell_type": "code",
   "execution_count": 21,
   "id": "2eae5f04",
   "metadata": {},
   "outputs": [
    {
     "data": {
      "text/plain": [
       "[1, 2, 3, 4, 5]"
      ]
     },
     "execution_count": 21,
     "metadata": {},
     "output_type": "execute_result"
    }
   ],
   "source": [
    "list_int"
   ]
  },
  {
   "cell_type": "code",
   "execution_count": 22,
   "id": "e721560a",
   "metadata": {},
   "outputs": [
    {
     "data": {
      "text/plain": [
       "([], [1, 2, 3, 4, 5])"
      ]
     },
     "execution_count": 22,
     "metadata": {},
     "output_type": "execute_result"
    }
   ],
   "source": [
    "test13(list_int)"
   ]
  },
  {
   "cell_type": "code",
   "execution_count": null,
   "id": "ee9ad484",
   "metadata": {},
   "outputs": [],
   "source": [
    "1. Assignment\n",
    "\n",
    "2.Post"
   ]
  }
 ],
 "metadata": {
  "kernelspec": {
   "display_name": "Python 3 (ipykernel)",
   "language": "python",
   "name": "python3"
  },
  "language_info": {
   "codemirror_mode": {
    "name": "ipython",
    "version": 3
   },
   "file_extension": ".py",
   "mimetype": "text/x-python",
   "name": "python",
   "nbconvert_exporter": "python",
   "pygments_lexer": "ipython3",
   "version": "3.11.5"
  }
 },
 "nbformat": 4,
 "nbformat_minor": 5
}
