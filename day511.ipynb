{
 "cells": [
  {
   "cell_type": "markdown",
   "id": "443793cd",
   "metadata": {},
   "source": [
    "## exceptional handling\n",
    "\n",
    "1.#syntax error\n",
    "2.#logical error"
   ]
  },
  {
   "cell_type": "markdown",
   "id": "bbea61ee",
   "metadata": {},
   "source": [
    "## syntax error"
   ]
  },
  {
   "cell_type": "code",
   "execution_count": 1,
   "id": "bb644aa8",
   "metadata": {},
   "outputs": [
    {
     "name": "stdout",
     "output_type": "stream",
     "text": [
      "India beat SLby 302 runs\n"
     ]
    }
   ],
   "source": [
    "print('India beat SLby 302 runs')\n",
    " print('I')"
   ]
  },
  {
   "cell_type": "code",
   "execution_count": 2,
   "id": "95418c99",
   "metadata": {},
   "outputs": [
    {
     "ename": "NameError",
     "evalue": "name 'y' is not defined",
     "output_type": "error",
     "traceback": [
      "\u001b[1;31m---------------------------------------------------------------------------\u001b[0m",
      "\u001b[1;31mNameError\u001b[0m                                 Traceback (most recent call last)",
      "Cell \u001b[1;32mIn[2], line 3\u001b[0m\n\u001b[0;32m      1\u001b[0m x \u001b[38;5;241m=\u001b[39m \u001b[38;5;241m10\u001b[39m\n\u001b[1;32m----> 3\u001b[0m z \u001b[38;5;241m=\u001b[39m x\u001b[38;5;241m+\u001b[39my\n",
      "\u001b[1;31mNameError\u001b[0m: name 'y' is not defined"
     ]
    }
   ],
   "source": [
    "x = 10\n",
    "\n",
    "z = x+y"
   ]
  },
  {
   "cell_type": "code",
   "execution_count": 3,
   "id": "5dd231a7",
   "metadata": {},
   "outputs": [
    {
     "ename": "SyntaxError",
     "evalue": "expected ':' (97866559.py, line 1)",
     "output_type": "error",
     "traceback": [
      "\u001b[1;36m  Cell \u001b[1;32mIn[3], line 1\u001b[1;36m\u001b[0m\n\u001b[1;33m    if x>10\u001b[0m\n\u001b[1;37m           ^\u001b[0m\n\u001b[1;31mSyntaxError\u001b[0m\u001b[1;31m:\u001b[0m expected ':'\n"
     ]
    }
   ],
   "source": [
    "if x>10\n",
    "print(x)"
   ]
  },
  {
   "cell_type": "code",
   "execution_count": 4,
   "id": "d15bd956",
   "metadata": {},
   "outputs": [
    {
     "ename": "SyntaxError",
     "evalue": "unterminated string literal (detected at line 2) (3425937498.py, line 2)",
     "output_type": "error",
     "traceback": [
      "\u001b[1;36m  Cell \u001b[1;32mIn[4], line 2\u001b[1;36m\u001b[0m\n\u001b[1;33m    print('x is greater than 10)\u001b[0m\n\u001b[1;37m          ^\u001b[0m\n\u001b[1;31mSyntaxError\u001b[0m\u001b[1;31m:\u001b[0m unterminated string literal (detected at line 2)\n"
     ]
    }
   ],
   "source": [
    "if x>10:\n",
    "    print('x is greater than 10)"
   ]
  },
  {
   "cell_type": "markdown",
   "id": "8ea19e6a",
   "metadata": {},
   "source": [
    "## logical error"
   ]
  },
  {
   "cell_type": "code",
   "execution_count": 5,
   "id": "e661ba77",
   "metadata": {},
   "outputs": [
    {
     "ename": "NameError",
     "evalue": "name 'os' is not defined",
     "output_type": "error",
     "traceback": [
      "\u001b[1;31m---------------------------------------------------------------------------\u001b[0m",
      "\u001b[1;31mNameError\u001b[0m                                 Traceback (most recent call last)",
      "Cell \u001b[1;32mIn[5], line 1\u001b[0m\n\u001b[1;32m----> 1\u001b[0m os\u001b[38;5;241m.\u001b[39mopen(\u001b[38;5;124m'\u001b[39m\u001b[38;5;124mdata.csv\u001b[39m\u001b[38;5;124m'\u001b[39m)\n",
      "\u001b[1;31mNameError\u001b[0m: name 'os' is not defined"
     ]
    }
   ],
   "source": [
    "os.open('data.csv')"
   ]
  },
  {
   "cell_type": "code",
   "execution_count": 6,
   "id": "c745e2b5",
   "metadata": {},
   "outputs": [
    {
     "ename": "TypeError",
     "evalue": "open() missing required argument 'flags' (pos 2)",
     "output_type": "error",
     "traceback": [
      "\u001b[1;31m---------------------------------------------------------------------------\u001b[0m",
      "\u001b[1;31mTypeError\u001b[0m                                 Traceback (most recent call last)",
      "Cell \u001b[1;32mIn[6], line 3\u001b[0m\n\u001b[0;32m      1\u001b[0m \u001b[38;5;28;01mimport\u001b[39;00m \u001b[38;5;21;01mos\u001b[39;00m \n\u001b[1;32m----> 3\u001b[0m os\u001b[38;5;241m.\u001b[39mopen(\u001b[38;5;124m'\u001b[39m\u001b[38;5;124mdata.csv\u001b[39m\u001b[38;5;124m'\u001b[39m)\n",
      "\u001b[1;31mTypeError\u001b[0m: open() missing required argument 'flags' (pos 2)"
     ]
    }
   ],
   "source": [
    "import os \n",
    "\n",
    "os.open('data.csv')"
   ]
  },
  {
   "cell_type": "code",
   "execution_count": 7,
   "id": "457be969",
   "metadata": {},
   "outputs": [
    {
     "ename": "FileNotFoundError",
     "evalue": "[Errno 2] No such file or directory: 'data.csv,'",
     "output_type": "error",
     "traceback": [
      "\u001b[1;31m---------------------------------------------------------------------------\u001b[0m",
      "\u001b[1;31mFileNotFoundError\u001b[0m                         Traceback (most recent call last)",
      "Cell \u001b[1;32mIn[7], line 3\u001b[0m\n\u001b[0;32m      1\u001b[0m \u001b[38;5;28;01mimport\u001b[39;00m \u001b[38;5;21;01mos\u001b[39;00m \n\u001b[1;32m----> 3\u001b[0m os\u001b[38;5;241m.\u001b[39mopen(\u001b[38;5;124m'\u001b[39m\u001b[38;5;124mdata.csv,\u001b[39m\u001b[38;5;124m'\u001b[39m,\u001b[38;5;241m1\u001b[39m)\n",
      "\u001b[1;31mFileNotFoundError\u001b[0m: [Errno 2] No such file or directory: 'data.csv,'"
     ]
    }
   ],
   "source": [
    "import os \n",
    "\n",
    "os.open('data.csv,',1)"
   ]
  },
  {
   "cell_type": "code",
   "execution_count": 8,
   "id": "01e385d2",
   "metadata": {},
   "outputs": [
    {
     "data": {
      "text/plain": [
       "'C:\\\\Users\\\\HP\\\\Desktop\\\\datascience'"
      ]
     },
     "execution_count": 8,
     "metadata": {},
     "output_type": "execute_result"
    }
   ],
   "source": [
    "pwd()"
   ]
  },
  {
   "cell_type": "code",
   "execution_count": 9,
   "id": "0dde2586",
   "metadata": {},
   "outputs": [
    {
     "ename": "ZeroDivisionError",
     "evalue": "division by zero",
     "output_type": "error",
     "traceback": [
      "\u001b[1;31m---------------------------------------------------------------------------\u001b[0m",
      "\u001b[1;31mZeroDivisionError\u001b[0m                         Traceback (most recent call last)",
      "Cell \u001b[1;32mIn[9], line 1\u001b[0m\n\u001b[1;32m----> 1\u001b[0m \u001b[38;5;241m159\u001b[39m\u001b[38;5;241m/\u001b[39m\u001b[38;5;241m0\u001b[39m\n",
      "\u001b[1;31mZeroDivisionError\u001b[0m: division by zero"
     ]
    }
   ],
   "source": [
    "159/0"
   ]
  },
  {
   "cell_type": "code",
   "execution_count": 10,
   "id": "4245db5f",
   "metadata": {},
   "outputs": [
    {
     "ename": "ZeroDivisionError",
     "evalue": "division by zero",
     "output_type": "error",
     "traceback": [
      "\u001b[1;31m---------------------------------------------------------------------------\u001b[0m",
      "\u001b[1;31mZeroDivisionError\u001b[0m                         Traceback (most recent call last)",
      "Cell \u001b[1;32mIn[10], line 4\u001b[0m\n\u001b[0;32m      1\u001b[0m x \u001b[38;5;241m=\u001b[39m \u001b[38;5;241m12\u001b[39m \n\u001b[0;32m      2\u001b[0m y \u001b[38;5;241m=\u001b[39m \u001b[38;5;241m0\u001b[39m\n\u001b[1;32m----> 4\u001b[0m x\u001b[38;5;241m/\u001b[39my\n\u001b[0;32m      6\u001b[0m \u001b[38;5;28mprint\u001b[39m(z)\n",
      "\u001b[1;31mZeroDivisionError\u001b[0m: division by zero"
     ]
    }
   ],
   "source": [
    "x = 12 \n",
    "y = 0\n",
    "\n",
    "x/y\n",
    "\n",
    "print(z)"
   ]
  },
  {
   "cell_type": "code",
   "execution_count": 12,
   "id": "bf5ec1aa",
   "metadata": {},
   "outputs": [
    {
     "ename": "TypeError",
     "evalue": "can only concatenate str (not \"int\") to str",
     "output_type": "error",
     "traceback": [
      "\u001b[1;31m---------------------------------------------------------------------------\u001b[0m",
      "\u001b[1;31mTypeError\u001b[0m                                 Traceback (most recent call last)",
      "Cell \u001b[1;32mIn[12], line 4\u001b[0m\n\u001b[0;32m      2\u001b[0m b \u001b[38;5;241m=\u001b[39m \u001b[38;5;241m20\u001b[39m\n\u001b[0;32m      3\u001b[0m a \u001b[38;5;241m=\u001b[39m \u001b[38;5;124m'\u001b[39m\u001b[38;5;124mJAY\u001b[39m\u001b[38;5;124m'\u001b[39m\n\u001b[1;32m----> 4\u001b[0m \u001b[38;5;28mprint\u001b[39m(\u001b[38;5;124m'\u001b[39m\u001b[38;5;124msum =\u001b[39m\u001b[38;5;124m'\u001b[39m,a\u001b[38;5;241m+\u001b[39mb)\n",
      "\u001b[1;31mTypeError\u001b[0m: can only concatenate str (not \"int\") to str"
     ]
    }
   ],
   "source": [
    "a = 10\n",
    "b = 20\n",
    "a = 'JAY'\n",
    "print('sum =',a+b)"
   ]
  },
  {
   "cell_type": "code",
   "execution_count": 25,
   "id": "349165ea",
   "metadata": {},
   "outputs": [
    {
     "ename": "KeyError",
     "evalue": "'_builtins_'",
     "output_type": "error",
     "traceback": [
      "\u001b[1;31m---------------------------------------------------------------------------\u001b[0m",
      "\u001b[1;31mKeyError\u001b[0m                                  Traceback (most recent call last)",
      "Cell \u001b[1;32mIn[25], line 1\u001b[0m\n\u001b[1;32m----> 1\u001b[0m \u001b[38;5;28mprint\u001b[39m(\u001b[38;5;28mdir\u001b[39m(\u001b[38;5;28mlocals\u001b[39m()[\u001b[38;5;124m'\u001b[39m\u001b[38;5;124m_builtins_\u001b[39m\u001b[38;5;124m'\u001b[39m]))\n",
      "\u001b[1;31mKeyError\u001b[0m: '_builtins_'"
     ]
    }
   ],
   "source": [
    "print(dir(locals()['_builtins_']))"
   ]
  },
  {
   "cell_type": "code",
   "execution_count": 16,
   "id": "8cfccdc4",
   "metadata": {},
   "outputs": [
    {
     "name": "stdout",
     "output_type": "stream",
     "text": [
      "3\n"
     ]
    }
   ],
   "source": [
    "a = 1\n",
    "b = 2\n",
    "\n",
    "print(a+b)"
   ]
  },
  {
   "cell_type": "code",
   "execution_count": 23,
   "id": "c583954c",
   "metadata": {},
   "outputs": [
    {
     "name": "stdout",
     "output_type": "stream",
     "text": [
      "sum: 3\n"
     ]
    }
   ],
   "source": [
    "a = 1\n",
    "b = 2\n",
    "\n",
    "if a == 1:\n",
    "    print(f'sum: {a+b}')\n"
   ]
  },
  {
   "cell_type": "code",
   "execution_count": 22,
   "id": "f8c7bbb9",
   "metadata": {},
   "outputs": [
    {
     "ename": "AssertionError",
     "evalue": "a is not 1",
     "output_type": "error",
     "traceback": [
      "\u001b[1;31m---------------------------------------------------------------------------\u001b[0m",
      "\u001b[1;31mAssertionError\u001b[0m                            Traceback (most recent call last)",
      "Cell \u001b[1;32mIn[22], line 4\u001b[0m\n\u001b[0;32m      1\u001b[0m a \u001b[38;5;241m=\u001b[39m \u001b[38;5;241m10\u001b[39m\n\u001b[0;32m      2\u001b[0m b \u001b[38;5;241m=\u001b[39m \u001b[38;5;241m2\u001b[39m\n\u001b[1;32m----> 4\u001b[0m \u001b[38;5;28;01massert\u001b[39;00m a \u001b[38;5;241m==\u001b[39m \u001b[38;5;241m1\u001b[39m, \u001b[38;5;124m'\u001b[39m\u001b[38;5;124ma is not 1\u001b[39m\u001b[38;5;124m'\u001b[39m\n\u001b[0;32m      5\u001b[0m \u001b[38;5;28mprint\u001b[39m(\u001b[38;5;124mf\u001b[39m\u001b[38;5;124m'\u001b[39m\u001b[38;5;124msum: \u001b[39m\u001b[38;5;132;01m{\u001b[39;00ma\u001b[38;5;241m+\u001b[39mb\u001b[38;5;132;01m}\u001b[39;00m\u001b[38;5;124m'\u001b[39m)\n",
      "\u001b[1;31mAssertionError\u001b[0m: a is not 1"
     ]
    }
   ],
   "source": [
    "a = 10\n",
    "b = 2\n",
    "\n",
    "assert a == 1, 'a is not 1'\n",
    "print(f'sum: {a+b}')"
   ]
  },
  {
   "cell_type": "code",
   "execution_count": 28,
   "id": "7459d411",
   "metadata": {},
   "outputs": [
    {
     "ename": "AssertionError",
     "evalue": "the type of'a' is not 'int'",
     "output_type": "error",
     "traceback": [
      "\u001b[1;31m---------------------------------------------------------------------------\u001b[0m",
      "\u001b[1;31mAssertionError\u001b[0m                            Traceback (most recent call last)",
      "Cell \u001b[1;32mIn[28], line 6\u001b[0m\n\u001b[0;32m      2\u001b[0m b \u001b[38;5;241m=\u001b[39m \u001b[38;5;241m20\u001b[39m \n\u001b[0;32m      4\u001b[0m a \u001b[38;5;241m=\u001b[39m \u001b[38;5;124m'\u001b[39m\u001b[38;5;124mJAY\u001b[39m\u001b[38;5;124m'\u001b[39m\n\u001b[1;32m----> 6\u001b[0m \u001b[38;5;28;01massert\u001b[39;00m \u001b[38;5;28mtype\u001b[39m(a) \u001b[38;5;241m==\u001b[39m \u001b[38;5;28mint\u001b[39m,\u001b[38;5;124m\"\u001b[39m\u001b[38;5;124mthe type of\u001b[39m\u001b[38;5;124m'\u001b[39m\u001b[38;5;124ma\u001b[39m\u001b[38;5;124m'\u001b[39m\u001b[38;5;124m is not \u001b[39m\u001b[38;5;124m'\u001b[39m\u001b[38;5;124mint\u001b[39m\u001b[38;5;124m'\u001b[39m\u001b[38;5;124m\"\u001b[39m\n\u001b[0;32m      7\u001b[0m \u001b[38;5;28;01massert\u001b[39;00m \u001b[38;5;28mtype\u001b[39m(b) \u001b[38;5;241m==\u001b[39m \u001b[38;5;28mint\u001b[39m,\u001b[38;5;124m\"\u001b[39m\u001b[38;5;124mthe type of\u001b[39m\u001b[38;5;124m'\u001b[39m\u001b[38;5;124mb\u001b[39m\u001b[38;5;124m'\u001b[39m\u001b[38;5;124m is not \u001b[39m\u001b[38;5;124m'\u001b[39m\u001b[38;5;124mint\u001b[39m\u001b[38;5;124m'\u001b[39m\u001b[38;5;124m\"\u001b[39m\n\u001b[0;32m      8\u001b[0m \u001b[38;5;28mprint\u001b[39m(\u001b[38;5;124mf\u001b[39m\u001b[38;5;124m'\u001b[39m\u001b[38;5;124msum: \u001b[39m\u001b[38;5;132;01m{\u001b[39;00ma\u001b[38;5;241m+\u001b[39mb\u001b[38;5;132;01m}\u001b[39;00m\u001b[38;5;124m'\u001b[39m)\n",
      "\u001b[1;31mAssertionError\u001b[0m: the type of'a' is not 'int'"
     ]
    }
   ],
   "source": [
    "a = 10\n",
    "b = 20 \n",
    "\n",
    "a = 'JAY'\n",
    "\n",
    "assert type(a) == int,\"the type of'a' is not 'int'\"\n",
    "assert type(b) == int,\"the type of'b' is not 'int'\"\n",
    "print(f'sum: {a+b}')"
   ]
  },
  {
   "cell_type": "code",
   "execution_count": 29,
   "id": "d6310974",
   "metadata": {},
   "outputs": [
    {
     "ename": "AssertionError",
     "evalue": "the type of'a' is not 'int'",
     "output_type": "error",
     "traceback": [
      "\u001b[1;31m---------------------------------------------------------------------------\u001b[0m",
      "\u001b[1;31mAssertionError\u001b[0m                            Traceback (most recent call last)",
      "Cell \u001b[1;32mIn[29], line 6\u001b[0m\n\u001b[0;32m      2\u001b[0m b \u001b[38;5;241m=\u001b[39m \u001b[38;5;241m20\u001b[39m \n\u001b[0;32m      4\u001b[0m a \u001b[38;5;241m=\u001b[39m \u001b[38;5;124m'\u001b[39m\u001b[38;5;124mJAY\u001b[39m\u001b[38;5;124m'\u001b[39m\n\u001b[1;32m----> 6\u001b[0m \u001b[38;5;28;01massert\u001b[39;00m \u001b[38;5;28mtype\u001b[39m(a) \u001b[38;5;241m==\u001b[39m \u001b[38;5;28mint\u001b[39m,\u001b[38;5;124m\"\u001b[39m\u001b[38;5;124mthe type of\u001b[39m\u001b[38;5;124m'\u001b[39m\u001b[38;5;124ma\u001b[39m\u001b[38;5;124m'\u001b[39m\u001b[38;5;124m is not \u001b[39m\u001b[38;5;124m'\u001b[39m\u001b[38;5;124mint\u001b[39m\u001b[38;5;124m'\u001b[39m\u001b[38;5;124m\"\u001b[39m\n\u001b[0;32m      7\u001b[0m \u001b[38;5;28;01massert\u001b[39;00m \u001b[38;5;28mtype\u001b[39m(b) \u001b[38;5;241m==\u001b[39m \u001b[38;5;28mint\u001b[39m,\u001b[38;5;124m\"\u001b[39m\u001b[38;5;124mthe type of\u001b[39m\u001b[38;5;124m'\u001b[39m\u001b[38;5;124mb\u001b[39m\u001b[38;5;124m'\u001b[39m\u001b[38;5;124m is not \u001b[39m\u001b[38;5;124m'\u001b[39m\u001b[38;5;124mint\u001b[39m\u001b[38;5;124m'\u001b[39m\u001b[38;5;124m\"\u001b[39m\n\u001b[0;32m      8\u001b[0m \u001b[38;5;28mprint\u001b[39m(\u001b[38;5;124mf\u001b[39m\u001b[38;5;124m'\u001b[39m\u001b[38;5;124msum: \u001b[39m\u001b[38;5;132;01m{\u001b[39;00ma\u001b[38;5;241m+\u001b[39mb\u001b[38;5;132;01m}\u001b[39;00m\u001b[38;5;124m'\u001b[39m)\n",
      "\u001b[1;31mAssertionError\u001b[0m: the type of'a' is not 'int'"
     ]
    }
   ],
   "source": [
    "a = 10\n",
    "b = 20 \n",
    "\n",
    "a = 'JAY'\n",
    "\n",
    "assert type(a) == int,\"the type of'a' is not 'int'\"\n",
    "assert type(b) == int,\"the type of'b' is not 'int'\"\n",
    "print(f'sum: {a+b}')"
   ]
  },
  {
   "cell_type": "code",
   "execution_count": 30,
   "id": "a7525794",
   "metadata": {},
   "outputs": [
    {
     "name": "stdout",
     "output_type": "stream",
     "text": [
      "sum: 30\n"
     ]
    }
   ],
   "source": [
    "a = 10\n",
    "b = 20\n",
    "\n",
    "if type(a) == int and type(b) == int:\n",
    "    print(f'sum: {a+b}')"
   ]
  },
  {
   "cell_type": "code",
   "execution_count": 31,
   "id": "71603db1",
   "metadata": {},
   "outputs": [],
   "source": [
    "def get_numbers():\n",
    "    \n",
    "    a = input('enter the value of \"a\":')\n",
    "    b = input('enter the value of \"b\":')\n",
    "    \n",
    "    return a,b"
   ]
  },
  {
   "cell_type": "code",
   "execution_count": 32,
   "id": "93299c04",
   "metadata": {},
   "outputs": [
    {
     "name": "stdout",
     "output_type": "stream",
     "text": [
      "enter the value of \"a\":100\n",
      "enter the value of \"b\":5\n",
      "sum:1005\n"
     ]
    }
   ],
   "source": [
    "a,b = get_numbers()\n",
    "\n",
    "print(f'sum:{a+b}')\n"
   ]
  },
  {
   "cell_type": "code",
   "execution_count": 36,
   "id": "23780fb1",
   "metadata": {},
   "outputs": [
    {
     "name": "stdout",
     "output_type": "stream",
     "text": [
      "enter the value of \"a\":100\n",
      "enter the value of \"b\":5\n",
      "a = 100\n",
      "b = 5\n",
      "sum: 105\n"
     ]
    }
   ],
   "source": [
    "a,b = get_numbers()\n",
    "\n",
    "print(f\"a = {a}\")\n",
    "print(f\"b = {b}\")\n",
    "\n",
    "a = int(a)\n",
    "b = int(b)\n",
    "\n",
    "assert type(a) == int, 'type of a is not int'\n",
    "assert type (b) == int, 'type of b is not int'\n",
    "\n",
    "print(f'sum: {a+b}')\n",
    "\n"
   ]
  },
  {
   "cell_type": "code",
   "execution_count": null,
   "id": "86c3cad1",
   "metadata": {},
   "outputs": [],
   "source": []
  },
  {
   "cell_type": "code",
   "execution_count": null,
   "id": "0622616d",
   "metadata": {},
   "outputs": [],
   "source": []
  },
  {
   "cell_type": "code",
   "execution_count": null,
   "id": "fa8fcdcc",
   "metadata": {},
   "outputs": [],
   "source": []
  },
  {
   "cell_type": "code",
   "execution_count": 33,
   "id": "1db43490",
   "metadata": {},
   "outputs": [
    {
     "name": "stdout",
     "output_type": "stream",
     "text": [
      "enter the value of \"a\":100\n",
      "enter the value of \"b\":5\n",
      "sum: 105\n"
     ]
    }
   ],
   "source": [
    "a,b = get_numbers()\n",
    "\n",
    "a = int(a)\n",
    "b = int(b)\n",
    "\n",
    "print(f\"sum: {a+b}\")"
   ]
  },
  {
   "cell_type": "markdown",
   "id": "99aee9fc",
   "metadata": {},
   "source": [
    "## how to get rid of these errorsm"
   ]
  },
  {
   "cell_type": "code",
   "execution_count": null,
   "id": "6984194a",
   "metadata": {},
   "outputs": [],
   "source": [
    "try:\n",
    "\n",
    "\n",
    "    pass\n",
    "\n",
    " \n",
    "except"
   ]
  },
  {
   "cell_type": "code",
   "execution_count": null,
   "id": "ec93ad1c",
   "metadata": {},
   "outputs": [],
   "source": [
    "try:\n",
    "    a = 1\n",
    "    b\n",
    "    \n",
    "except    \n",
    "    "
   ]
  },
  {
   "cell_type": "code",
   "execution_count": null,
   "id": "3437215f",
   "metadata": {},
   "outputs": [],
   "source": []
  },
  {
   "cell_type": "code",
   "execution_count": 37,
   "id": "020f37a4",
   "metadata": {},
   "outputs": [
    {
     "name": "stdout",
     "output_type": "stream",
     "text": [
      "ERROR: invalid input\n"
     ]
    }
   ],
   "source": [
    "try:\n",
    "    a = 12\n",
    "    y = 0\n",
    "    \n",
    "    z = x/y\n",
    "    \n",
    "    print(z)\n",
    "    \n",
    "    \n",
    "    \n",
    "except:\n",
    "    print('ERROR: invalid input')"
   ]
  },
  {
   "cell_type": "code",
   "execution_count": 39,
   "id": "1752eb80",
   "metadata": {},
   "outputs": [
    {
     "ename": "SyntaxError",
     "evalue": "expected ':' (3802674092.py, line 3)",
     "output_type": "error",
     "traceback": [
      "\u001b[1;36m  Cell \u001b[1;32mIn[39], line 3\u001b[1;36m\u001b[0m\n\u001b[1;33m    for i in range(len(my_list)+1)\u001b[0m\n\u001b[1;37m                                  ^\u001b[0m\n\u001b[1;31mSyntaxError\u001b[0m\u001b[1;31m:\u001b[0m expected ':'\n"
     ]
    }
   ],
   "source": [
    "\n",
    "for i in range(len(my_list)+1)\n",
    "    printmy_list = [3,1,6,8]\n",
    "nt(my_list[i])"
   ]
  },
  {
   "cell_type": "code",
   "execution_count": 51,
   "id": "2c17f50f",
   "metadata": {},
   "outputs": [
    {
     "name": "stdout",
     "output_type": "stream",
     "text": [
      "3\n",
      "1\n",
      "6\n",
      "8\n",
      "ERROR in code\n"
     ]
    }
   ],
   "source": [
    "try:\n",
    "    \n",
    "        my_list = [ 3,1,6,8]\n",
    "        \n",
    "        for i in range(len(my_list)+1):\n",
    "            print(my_list[i])\n",
    "    \n",
    "     \n",
    "    \n",
    "    \n",
    "except:\n",
    "    print('ERROR in code')"
   ]
  },
  {
   "cell_type": "code",
   "execution_count": 65,
   "id": "f6e320ba",
   "metadata": {},
   "outputs": [
    {
     "ename": "IndentationError",
     "evalue": "unexpected indent (3756406720.py, line 5)",
     "output_type": "error",
     "traceback": [
      "\u001b[1;36m  Cell \u001b[1;32mIn[65], line 5\u001b[1;36m\u001b[0m\n\u001b[1;33m    for i in range(len(my_list)):\u001b[0m\n\u001b[1;37m    ^\u001b[0m\n\u001b[1;31mIndentationError\u001b[0m\u001b[1;31m:\u001b[0m unexpected indent\n"
     ]
    }
   ],
   "source": [
    "try:\n",
    "    \n",
    "       my_list = [ 3,1,6,8]\n",
    "        \n",
    "         for i in range(len(my_list)):\n",
    "            print(my_list[i] +'PRAVIN')\n",
    "    \n",
    "    \n",
    "    \n",
    "    \n",
    "except Expectation as e:\n",
    "    Print(e)"
   ]
  },
  {
   "cell_type": "code",
   "execution_count": 67,
   "id": "9993639a",
   "metadata": {},
   "outputs": [
    {
     "name": "stdout",
     "output_type": "stream",
     "text": [
      "enter a:3\n",
      "enter b:4\n",
      "division:0.75\n"
     ]
    }
   ],
   "source": [
    " try:\n",
    "        \n",
    "    a = int(input('enter a:'))\n",
    "    b = int(input('enter b:'))\n",
    "    \n",
    "    c = a/b\n",
    "    \n",
    "    print(f\"division:{c}\")\n",
    "\n",
    "    \n",
    "    \n",
    "except:\n",
    "    print(\"Error in code\")               "
   ]
  },
  {
   "cell_type": "code",
   "execution_count": 71,
   "id": "7ccef013",
   "metadata": {},
   "outputs": [
    {
     "name": "stdout",
     "output_type": "stream",
     "text": [
      "enter a:1\n",
      "enter b:d\n",
      "invalid literal for int() with base 10: 'd'\n"
     ]
    }
   ],
   "source": [
    " try:\n",
    "        \n",
    "    a = int(input('enter a:'))\n",
    "    b = int(input('enter b:'))\n",
    "    \n",
    "    c = a/b\n",
    "    \n",
    "    print(f\"division:{c}\")\n",
    "\n",
    "    \n",
    "    \n",
    "except ValueError as e:\n",
    "    print(e)\n",
    "except ZeroDivisonError as e:\n",
    "    print(e)\n",
    "except Exception as e:\n",
    "    print(e)"
   ]
  },
  {
   "cell_type": "code",
   "execution_count": 78,
   "id": "fad1c15d",
   "metadata": {},
   "outputs": [
    {
     "name": "stdout",
     "output_type": "stream",
     "text": [
      "element:a\n",
      "ERROR: <class 'ZeroDivisionError'>\n",
      "ERROR: division by zero\n",
      "\n",
      "element:0\n",
      "ERROR: <class 'ZeroDivisionError'>\n",
      "ERROR: division by zero\n",
      "\n",
      "element:10\n",
      "ERROR: <class 'ZeroDivisionError'>\n",
      "ERROR: division by zero\n",
      "\n",
      "element:20\n",
      "ERROR: <class 'ZeroDivisionError'>\n",
      "ERROR: division by zero\n",
      "\n",
      "element:\n",
      "ERROR: <class 'ZeroDivisionError'>\n",
      "ERROR: division by zero\n",
      "\n",
      "element:15\n",
      "ERROR: <class 'ZeroDivisionError'>\n",
      "ERROR: division by zero\n",
      "\n",
      "element:25\n",
      "ERROR: <class 'ZeroDivisionError'>\n",
      "ERROR: division by zero\n",
      "\n"
     ]
    }
   ],
   "source": [
    "import sys \n",
    "\n",
    "my_list = ['a',0,10,20,\"\",15,25]\n",
    "\n",
    "for i in my_list:\n",
    "    \n",
    "    try:\n",
    "        print(f\"element:{i}\")\n",
    "        \n",
    "        result = 1/int()\n",
    "        \n",
    "        print(f\"result:{result}\")\n",
    "              \n",
    "    except:\n",
    "         print(f\"ERROR: {sys.exc_info()[0]}\")\n",
    "         print(f\"ERROR: {sys.exc_info()[1]}\\n\")     \n",
    "              "
   ]
  },
  {
   "cell_type": "code",
   "execution_count": 74,
   "id": "518cfbe9",
   "metadata": {},
   "outputs": [
    {
     "data": {
      "text/plain": [
       "['a', 0, 10]"
      ]
     },
     "execution_count": 74,
     "metadata": {},
     "output_type": "execute_result"
    }
   ],
   "source": [
    "my_list"
   ]
  },
  {
   "cell_type": "code",
   "execution_count": 79,
   "id": "6bceb9b3",
   "metadata": {},
   "outputs": [
    {
     "name": "stdout",
     "output_type": "stream",
     "text": [
      "Enter number:4\n",
      "number: 4 is even\n"
     ]
    }
   ],
   "source": [
    "try:\n",
    "    \n",
    "    num = int(input('Enter number:'))\n",
    "    assert num%2==0\n",
    "    \n",
    "except:\n",
    "    print(f'number:{num} is not even')\n",
    "    \n",
    "else:\n",
    "    print(f'number: {num} is even')"
   ]
  },
  {
   "cell_type": "code",
   "execution_count": 80,
   "id": "594e21d5",
   "metadata": {},
   "outputs": [
    {
     "name": "stdout",
     "output_type": "stream",
     "text": [
      "enter number:9\n",
      "number: 9.0 is possitive\n"
     ]
    }
   ],
   "source": [
    "try:\n",
    "    \n",
    "    n = float(input('enter number:'))\n",
    "    \n",
    "    assert n > 0\n",
    "    \n",
    "except:\n",
    "    print(f'number: {n} is negative')\n",
    "          \n",
    "else:\n",
    "  print(f\"number: {n} is possitive\")        \n",
    "          \n",
    "          \n",
    "          "
   ]
  },
  {
   "cell_type": "markdown",
   "id": "7606a85f",
   "metadata": {},
   "source": [
    "## finaally"
   ]
  },
  {
   "cell_type": "code",
   "execution_count": 81,
   "id": "16fd5c44",
   "metadata": {},
   "outputs": [
    {
     "name": "stdout",
     "output_type": "stream",
     "text": [
      "ENter number\"a\":opg\n",
      "invalid literal for int() with base 10: 'opg'\n",
      "execution complete\n"
     ]
    }
   ],
   "source": [
    "try:\n",
    "    \n",
    "    n = int(input('ENter number\"a\":'))\n",
    "    \n",
    "    assert n%2==0\n",
    "    \n",
    "except Exception as e:\n",
    "    print(e)\n",
    "\n",
    "else:\n",
    "    ans = 1/n\n",
    "    print(f'reciprocol of {n} is: {ans}')\n",
    "    \n",
    "finally:\n",
    "    print('execution complete')\n",
    "    "
   ]
  },
  {
   "cell_type": "code",
   "execution_count": null,
   "id": "e1514558",
   "metadata": {},
   "outputs": [],
   "source": []
  },
  {
   "cell_type": "code",
   "execution_count": 84,
   "id": "3e7c6fa8",
   "metadata": {},
   "outputs": [
    {
     "name": "stdout",
     "output_type": "stream",
     "text": [
      "1 is integer\n",
      "1 in unknown\n",
      "2 is integer\n",
      "2 in unknown\n",
      "9 is integer\n",
      "9 in unknown\n",
      "a is string\n",
      "india is string\n",
      "69 is integer\n",
      "69 in unknown\n",
      "AI is string\n",
      "else block executed\n",
      "finally block executed\n"
     ]
    }
   ],
   "source": [
    "try:\n",
    "    my_list = [1,2,9,'a','india',69,'AI']\n",
    "    \n",
    "    for elemnt in my_list:\n",
    "        \n",
    "        if isinstance(elemnt,int):\n",
    "            print(f\"{elemnt} is integer\")\n",
    "            \n",
    "        if isinstance(elemnt,str):\n",
    "            print(f\"{elemnt} is string\")\n",
    "            \n",
    "        else:\n",
    "            print(f\"{elemnt} in unknown\")\n",
    "            \n",
    "except Exception as e:\n",
    "    print(e)\n",
    "    \n",
    "    \n",
    "else:\n",
    "    print('else block executed')\n",
    "    \n",
    "finally:\n",
    "    print('finally block executed')\n",
    "\n",
    "           "
   ]
  },
  {
   "cell_type": "code",
   "execution_count": 83,
   "id": "0ea81664",
   "metadata": {},
   "outputs": [
    {
     "data": {
      "text/plain": [
       "[1, 2, 9, 'a', 'india', 69, 'AI']"
      ]
     },
     "execution_count": 83,
     "metadata": {},
     "output_type": "execute_result"
    }
   ],
   "source": [
    "my_list"
   ]
  },
  {
   "cell_type": "code",
   "execution_count": null,
   "id": "c8d560af",
   "metadata": {},
   "outputs": [],
   "source": []
  }
 ],
 "metadata": {
  "kernelspec": {
   "display_name": "Python 3 (ipykernel)",
   "language": "python",
   "name": "python3"
  },
  "language_info": {
   "codemirror_mode": {
    "name": "ipython",
    "version": 3
   },
   "file_extension": ".py",
   "mimetype": "text/x-python",
   "name": "python",
   "nbconvert_exporter": "python",
   "pygments_lexer": "ipython3",
   "version": "3.11.5"
  }
 },
 "nbformat": 4,
 "nbformat_minor": 5
}
