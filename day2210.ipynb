{
 "cells": [
  {
   "cell_type": "code",
   "execution_count": 3,
   "id": "25c9e9b7",
   "metadata": {},
   "outputs": [],
   "source": [
    "a ='INDIA IS GREAT NATION'"
   ]
  },
  {
   "cell_type": "code",
   "execution_count": 4,
   "id": "9cbec32b",
   "metadata": {},
   "outputs": [
    {
     "data": {
      "text/plain": [
       "'INDIA IS GREAT NATION'"
      ]
     },
     "execution_count": 4,
     "metadata": {},
     "output_type": "execute_result"
    }
   ],
   "source": [
    "a"
   ]
  },
  {
   "cell_type": "code",
   "execution_count": 5,
   "id": "5762a91b",
   "metadata": {},
   "outputs": [
    {
     "data": {
      "text/plain": [
       "'India is great nation'"
      ]
     },
     "execution_count": 5,
     "metadata": {},
     "output_type": "execute_result"
    }
   ],
   "source": [
    "a.capitalize()"
   ]
  },
  {
   "cell_type": "code",
   "execution_count": 6,
   "id": "94c578d9",
   "metadata": {},
   "outputs": [],
   "source": [
    "t =\"  mhoigdrsgv\""
   ]
  },
  {
   "cell_type": "code",
   "execution_count": 7,
   "id": "3de6df22",
   "metadata": {},
   "outputs": [
    {
     "data": {
      "text/plain": [
       "'  mhoigdrsgv'"
      ]
     },
     "execution_count": 7,
     "metadata": {},
     "output_type": "execute_result"
    }
   ],
   "source": [
    "t"
   ]
  },
  {
   "cell_type": "code",
   "execution_count": 8,
   "id": "13651f10",
   "metadata": {},
   "outputs": [
    {
     "data": {
      "text/plain": [
       "'mhoigdrsgv'"
      ]
     },
     "execution_count": 8,
     "metadata": {},
     "output_type": "execute_result"
    }
   ],
   "source": [
    "t.strip()"
   ]
  },
  {
   "cell_type": "code",
   "execution_count": 9,
   "id": "c0bc29c2",
   "metadata": {},
   "outputs": [
    {
     "data": {
      "text/plain": [
       "'INDIA IS GREAT NATION'"
      ]
     },
     "execution_count": 9,
     "metadata": {},
     "output_type": "execute_result"
    }
   ],
   "source": [
    "a"
   ]
  },
  {
   "cell_type": "code",
   "execution_count": 12,
   "id": "6e51c48f",
   "metadata": {},
   "outputs": [
    {
     "ename": "AttributeError",
     "evalue": "'list' object has no attribute 'split'",
     "output_type": "error",
     "traceback": [
      "\u001b[1;31m---------------------------------------------------------------------------\u001b[0m",
      "\u001b[1;31mAttributeError\u001b[0m                            Traceback (most recent call last)",
      "Cell \u001b[1;32mIn[12], line 1\u001b[0m\n\u001b[1;32m----> 1\u001b[0m a\u001b[38;5;241m=\u001b[39ma\u001b[38;5;241m.\u001b[39msplit()\n",
      "\u001b[1;31mAttributeError\u001b[0m: 'list' object has no attribute 'split'"
     ]
    }
   ],
   "source": [
    "a=a.split()"
   ]
  },
  {
   "cell_type": "code",
   "execution_count": 20,
   "id": "271fb060",
   "metadata": {},
   "outputs": [],
   "source": [
    "t = 'india is my nation'"
   ]
  },
  {
   "cell_type": "code",
   "execution_count": 21,
   "id": "57617e1a",
   "metadata": {},
   "outputs": [
    {
     "data": {
      "text/plain": [
       "'india is my nation'"
      ]
     },
     "execution_count": 21,
     "metadata": {},
     "output_type": "execute_result"
    }
   ],
   "source": [
    "t"
   ]
  },
  {
   "cell_type": "code",
   "execution_count": 22,
   "id": "1c5c84f2",
   "metadata": {},
   "outputs": [
    {
     "data": {
      "text/plain": [
       "['india', 'is', 'my', 'nation']"
      ]
     },
     "execution_count": 22,
     "metadata": {},
     "output_type": "execute_result"
    }
   ],
   "source": [
    "t.split()"
   ]
  },
  {
   "cell_type": "code",
   "execution_count": 23,
   "id": "353626f4",
   "metadata": {},
   "outputs": [
    {
     "data": {
      "text/plain": [
       "[]"
      ]
     },
     "execution_count": 23,
     "metadata": {},
     "output_type": "execute_result"
    }
   ],
   "source": [
    "list()"
   ]
  },
  {
   "cell_type": "code",
   "execution_count": 24,
   "id": "9910f628",
   "metadata": {},
   "outputs": [],
   "source": [
    "t =[]"
   ]
  },
  {
   "cell_type": "code",
   "execution_count": 25,
   "id": "8ff5ef57",
   "metadata": {},
   "outputs": [
    {
     "data": {
      "text/plain": [
       "[]"
      ]
     },
     "execution_count": 25,
     "metadata": {},
     "output_type": "execute_result"
    }
   ],
   "source": [
    "t"
   ]
  },
  {
   "cell_type": "code",
   "execution_count": 26,
   "id": "ec410d52",
   "metadata": {},
   "outputs": [
    {
     "data": {
      "text/plain": [
       "list"
      ]
     },
     "execution_count": 26,
     "metadata": {},
     "output_type": "execute_result"
    }
   ],
   "source": [
    "type(t)"
   ]
  },
  {
   "cell_type": "code",
   "execution_count": 27,
   "id": "5eba1e43",
   "metadata": {},
   "outputs": [
    {
     "data": {
      "text/plain": [
       "0"
      ]
     },
     "execution_count": 27,
     "metadata": {},
     "output_type": "execute_result"
    }
   ],
   "source": [
    "len(t)"
   ]
  },
  {
   "cell_type": "code",
   "execution_count": 28,
   "id": "fa2accac",
   "metadata": {},
   "outputs": [],
   "source": [
    "l =['INDIA',5,6.5,1+2j,True]"
   ]
  },
  {
   "cell_type": "code",
   "execution_count": 29,
   "id": "be2ff8f3",
   "metadata": {},
   "outputs": [
    {
     "data": {
      "text/plain": [
       "['INDIA', 5, 6.5, (1+2j), True]"
      ]
     },
     "execution_count": 29,
     "metadata": {},
     "output_type": "execute_result"
    }
   ],
   "source": [
    "l"
   ]
  },
  {
   "cell_type": "code",
   "execution_count": 30,
   "id": "70603a3b",
   "metadata": {},
   "outputs": [
    {
     "data": {
      "text/plain": [
       "'INDIA'"
      ]
     },
     "execution_count": 30,
     "metadata": {},
     "output_type": "execute_result"
    }
   ],
   "source": [
    "l[0]"
   ]
  },
  {
   "cell_type": "code",
   "execution_count": 31,
   "id": "5c937127",
   "metadata": {},
   "outputs": [
    {
     "data": {
      "text/plain": [
       "5"
      ]
     },
     "execution_count": 31,
     "metadata": {},
     "output_type": "execute_result"
    }
   ],
   "source": [
    "l[1]"
   ]
  },
  {
   "cell_type": "code",
   "execution_count": 32,
   "id": "afd60121",
   "metadata": {},
   "outputs": [
    {
     "data": {
      "text/plain": [
       "True"
      ]
     },
     "execution_count": 32,
     "metadata": {},
     "output_type": "execute_result"
    }
   ],
   "source": [
    "l[-1]"
   ]
  },
  {
   "cell_type": "code",
   "execution_count": 33,
   "id": "8a7f57a3",
   "metadata": {},
   "outputs": [
    {
     "data": {
      "text/plain": [
       "5"
      ]
     },
     "execution_count": 33,
     "metadata": {},
     "output_type": "execute_result"
    }
   ],
   "source": [
    "len(l)"
   ]
  },
  {
   "cell_type": "code",
   "execution_count": 34,
   "id": "dd2b4089",
   "metadata": {},
   "outputs": [
    {
     "data": {
      "text/plain": [
       "['INDIA', 5, 6.5]"
      ]
     },
     "execution_count": 34,
     "metadata": {},
     "output_type": "execute_result"
    }
   ],
   "source": [
    "l[0:3]"
   ]
  },
  {
   "cell_type": "code",
   "execution_count": 35,
   "id": "1164ff13",
   "metadata": {},
   "outputs": [
    {
     "data": {
      "text/plain": [
       "[6.5, (1+2j), True]"
      ]
     },
     "execution_count": 35,
     "metadata": {},
     "output_type": "execute_result"
    }
   ],
   "source": [
    "l[2:5]"
   ]
  },
  {
   "cell_type": "code",
   "execution_count": 36,
   "id": "7957abfd",
   "metadata": {},
   "outputs": [],
   "source": [
    "l1 =['INDIA',123,True]\n",
    "l2=['maharashtra',2587,False]"
   ]
  },
  {
   "cell_type": "code",
   "execution_count": 37,
   "id": "22a7511a",
   "metadata": {},
   "outputs": [
    {
     "data": {
      "text/plain": [
       "['INDIA', 123, True]"
      ]
     },
     "execution_count": 37,
     "metadata": {},
     "output_type": "execute_result"
    }
   ],
   "source": [
    "l1"
   ]
  },
  {
   "cell_type": "code",
   "execution_count": 38,
   "id": "d28d7026",
   "metadata": {},
   "outputs": [
    {
     "data": {
      "text/plain": [
       "['maharashtra', 2587, False]"
      ]
     },
     "execution_count": 38,
     "metadata": {},
     "output_type": "execute_result"
    }
   ],
   "source": [
    "l2"
   ]
  },
  {
   "cell_type": "code",
   "execution_count": 39,
   "id": "080a534c",
   "metadata": {},
   "outputs": [],
   "source": [
    "l3 =l1+l2"
   ]
  },
  {
   "cell_type": "code",
   "execution_count": 40,
   "id": "13f5b9c6",
   "metadata": {},
   "outputs": [
    {
     "data": {
      "text/plain": [
       "['INDIA', 123, True, 'maharashtra', 2587, False]"
      ]
     },
     "execution_count": 40,
     "metadata": {},
     "output_type": "execute_result"
    }
   ],
   "source": [
    "l3"
   ]
  },
  {
   "cell_type": "code",
   "execution_count": 46,
   "id": "a065089c",
   "metadata": {},
   "outputs": [],
   "source": [
    "l3=l3+['PUNE']"
   ]
  },
  {
   "cell_type": "code",
   "execution_count": 47,
   "id": "6d697c95",
   "metadata": {},
   "outputs": [
    {
     "data": {
      "text/plain": [
       "123"
      ]
     },
     "execution_count": 47,
     "metadata": {},
     "output_type": "execute_result"
    }
   ],
   "source": [
    "l3.pop(0)"
   ]
  },
  {
   "cell_type": "code",
   "execution_count": 44,
   "id": "8b20ddbe",
   "metadata": {},
   "outputs": [
    {
     "data": {
      "text/plain": [
       "[123, True, 'maharashtra', 2587, False]"
      ]
     },
     "execution_count": 44,
     "metadata": {},
     "output_type": "execute_result"
    }
   ],
   "source": [
    "l3"
   ]
  },
  {
   "cell_type": "code",
   "execution_count": 48,
   "id": "cfbafc63",
   "metadata": {},
   "outputs": [
    {
     "data": {
      "text/plain": [
       "[True, 'maharashtra', 2587, False, 'PUNE']"
      ]
     },
     "execution_count": 48,
     "metadata": {},
     "output_type": "execute_result"
    }
   ],
   "source": [
    "l3"
   ]
  },
  {
   "cell_type": "code",
   "execution_count": 49,
   "id": "896d8b19",
   "metadata": {},
   "outputs": [
    {
     "data": {
      "text/plain": [
       "False"
      ]
     },
     "execution_count": 49,
     "metadata": {},
     "output_type": "execute_result"
    }
   ],
   "source": [
    "l3.pop(3)"
   ]
  },
  {
   "cell_type": "code",
   "execution_count": 50,
   "id": "31cee38b",
   "metadata": {},
   "outputs": [],
   "source": [
    "l3.insert(0,'JAY')"
   ]
  },
  {
   "cell_type": "code",
   "execution_count": 51,
   "id": "7e110c3e",
   "metadata": {},
   "outputs": [
    {
     "data": {
      "text/plain": [
       "['JAY', True, 'maharashtra', 2587, 'PUNE']"
      ]
     },
     "execution_count": 51,
     "metadata": {},
     "output_type": "execute_result"
    }
   ],
   "source": [
    "l3"
   ]
  },
  {
   "cell_type": "code",
   "execution_count": 53,
   "id": "04029805",
   "metadata": {},
   "outputs": [],
   "source": [
    "l3.insert(0,'INDIA')"
   ]
  },
  {
   "cell_type": "code",
   "execution_count": 54,
   "id": "a663407d",
   "metadata": {},
   "outputs": [
    {
     "data": {
      "text/plain": [
       "['INDIA', 'INDIA', 'JAY', True, 'maharashtra', 2587, 'PUNE']"
      ]
     },
     "execution_count": 54,
     "metadata": {},
     "output_type": "execute_result"
    }
   ],
   "source": [
    "l3"
   ]
  },
  {
   "cell_type": "code",
   "execution_count": 55,
   "id": "936d9b28",
   "metadata": {},
   "outputs": [],
   "source": [
    "l3.insert(-1,[1,2,3])"
   ]
  },
  {
   "cell_type": "code",
   "execution_count": 56,
   "id": "7b9fb34b",
   "metadata": {},
   "outputs": [
    {
     "data": {
      "text/plain": [
       "['INDIA', 'INDIA', 'JAY', True, 'maharashtra', 2587, [1, 2, 3], 'PUNE']"
      ]
     },
     "execution_count": 56,
     "metadata": {},
     "output_type": "execute_result"
    }
   ],
   "source": [
    "l3"
   ]
  },
  {
   "cell_type": "code",
   "execution_count": 58,
   "id": "1ea9da8b",
   "metadata": {},
   "outputs": [
    {
     "data": {
      "text/plain": [
       "2"
      ]
     },
     "execution_count": 58,
     "metadata": {},
     "output_type": "execute_result"
    }
   ],
   "source": [
    "l3[-2][-2]"
   ]
  },
  {
   "cell_type": "code",
   "execution_count": 60,
   "id": "067bfc17",
   "metadata": {},
   "outputs": [
    {
     "data": {
      "text/plain": [
       "[1, 2, 3]"
      ]
     },
     "execution_count": 60,
     "metadata": {},
     "output_type": "execute_result"
    }
   ],
   "source": [
    "l3[6]"
   ]
  },
  {
   "cell_type": "code",
   "execution_count": 61,
   "id": "d028772d",
   "metadata": {},
   "outputs": [
    {
     "data": {
      "text/plain": [
       "1"
      ]
     },
     "execution_count": 61,
     "metadata": {},
     "output_type": "execute_result"
    }
   ],
   "source": [
    "l3[6][0]"
   ]
  },
  {
   "cell_type": "code",
   "execution_count": 62,
   "id": "78819670",
   "metadata": {},
   "outputs": [
    {
     "data": {
      "text/plain": [
       "['PUNE', [1, 2, 3], 2587, 'maharashtra', True, 'JAY', 'INDIA', 'INDIA']"
      ]
     },
     "execution_count": 62,
     "metadata": {},
     "output_type": "execute_result"
    }
   ],
   "source": [
    "l3[::-1]"
   ]
  },
  {
   "cell_type": "code",
   "execution_count": 65,
   "id": "8fc9328e",
   "metadata": {},
   "outputs": [],
   "source": [
    "l4 =[23,58,12,36,85,0,5,14]"
   ]
  },
  {
   "cell_type": "code",
   "execution_count": 66,
   "id": "cfca75a3",
   "metadata": {},
   "outputs": [
    {
     "data": {
      "text/plain": [
       "[23, 58, 12, 36, 85, 0, 5, 14]"
      ]
     },
     "execution_count": 66,
     "metadata": {},
     "output_type": "execute_result"
    }
   ],
   "source": [
    "l4"
   ]
  },
  {
   "cell_type": "code",
   "execution_count": 67,
   "id": "9d8a8b89",
   "metadata": {},
   "outputs": [],
   "source": [
    "l4.sort()"
   ]
  },
  {
   "cell_type": "code",
   "execution_count": 68,
   "id": "99f24e39",
   "metadata": {},
   "outputs": [
    {
     "data": {
      "text/plain": [
       "[0, 5, 12, 14, 23, 36, 58, 85]"
      ]
     },
     "execution_count": 68,
     "metadata": {},
     "output_type": "execute_result"
    }
   ],
   "source": [
    "l4"
   ]
  },
  {
   "cell_type": "code",
   "execution_count": 69,
   "id": "1cc1504b",
   "metadata": {},
   "outputs": [
    {
     "data": {
      "text/plain": [
       "[85, 58, 36, 23, 14, 12, 5, 0]"
      ]
     },
     "execution_count": 69,
     "metadata": {},
     "output_type": "execute_result"
    }
   ],
   "source": [
    "l4.sort(reverse=True)\n",
    "l4"
   ]
  },
  {
   "cell_type": "code",
   "execution_count": 70,
   "id": "b01afde9",
   "metadata": {},
   "outputs": [],
   "source": [
    "l4.clear()"
   ]
  },
  {
   "cell_type": "code",
   "execution_count": 71,
   "id": "c48bf3e2",
   "metadata": {},
   "outputs": [
    {
     "data": {
      "text/plain": [
       "[]"
      ]
     },
     "execution_count": 71,
     "metadata": {},
     "output_type": "execute_result"
    }
   ],
   "source": [
    "l4"
   ]
  },
  {
   "cell_type": "markdown",
   "id": "4b69b6a5",
   "metadata": {},
   "source": [
    "conditioning"
   ]
  },
  {
   "cell_type": "markdown",
   "id": "cd141e14",
   "metadata": {},
   "source": [
    "# conditioning"
   ]
  },
  {
   "cell_type": "code",
   "execution_count": 78,
   "id": "3708314f",
   "metadata": {},
   "outputs": [],
   "source": [
    "yash = 45"
   ]
  },
  {
   "cell_type": "code",
   "execution_count": 79,
   "id": "004295f8",
   "metadata": {},
   "outputs": [
    {
     "name": "stdout",
     "output_type": "stream",
     "text": [
      "yash: - PASS\n"
     ]
    }
   ],
   "source": [
    "if yash > 35:\n",
    "    print(\"yash: - PASS\")"
   ]
  },
  {
   "cell_type": "code",
   "execution_count": 75,
   "id": "a0d89e41",
   "metadata": {},
   "outputs": [],
   "source": [
    "a = 20"
   ]
  },
  {
   "cell_type": "code",
   "execution_count": 76,
   "id": "8e070813",
   "metadata": {},
   "outputs": [
    {
     "name": "stdout",
     "output_type": "stream",
     "text": [
      "a is greater than 10\n"
     ]
    }
   ],
   "source": [
    "if a>10:\n",
    "    print('a is greater than 10')"
   ]
  },
  {
   "cell_type": "code",
   "execution_count": 77,
   "id": "ab37d714",
   "metadata": {},
   "outputs": [
    {
     "data": {
      "text/plain": [
       "False"
      ]
     },
     "execution_count": 77,
     "metadata": {},
     "output_type": "execute_result"
    }
   ],
   "source": [
    "a<10"
   ]
  },
  {
   "cell_type": "code",
   "execution_count": 83,
   "id": "3afb6ba2",
   "metadata": {},
   "outputs": [
    {
     "name": "stdout",
     "output_type": "stream",
     "text": [
      "result:-FAIL\n"
     ]
    }
   ],
   "source": [
    "score = 9\n",
    "\n",
    "if score > 35:\n",
    "    print(\"result: - PASS\")\n",
    " \n",
    "else:\n",
    "    print(\"result:-FAIL\")\n",
    "    \n",
    "    "
   ]
  },
  {
   "cell_type": "code",
   "execution_count": null,
   "id": "cba2b3ec",
   "metadata": {},
   "outputs": [],
   "source": []
  },
  {
   "cell_type": "code",
   "execution_count": null,
   "id": "264b8b68",
   "metadata": {},
   "outputs": [],
   "source": []
  },
  {
   "cell_type": "code",
   "execution_count": 84,
   "id": "64a600ce",
   "metadata": {},
   "outputs": [
    {
     "name": "stdout",
     "output_type": "stream",
     "text": [
      "1 is odd\n"
     ]
    }
   ],
   "source": [
    "n =1\n",
    "\n",
    "if n%2==0:\n",
    "    print(f'{n} is even')\n",
    "          \n",
    "else:\n",
    "          print(f\"{n} is odd\")"
   ]
  },
  {
   "cell_type": "code",
   "execution_count": 88,
   "id": "9119a4fd",
   "metadata": {},
   "outputs": [
    {
     "name": "stdout",
     "output_type": "stream",
     "text": [
      "-5is negative\n"
     ]
    }
   ],
   "source": [
    " n = -5\n",
    "if n>0:\n",
    "    print(f\"{n} is positive\")\n",
    "else:\n",
    "    print(f\"{n}is negative\")"
   ]
  },
  {
   "cell_type": "code",
   "execution_count": null,
   "id": "5a271d9a",
   "metadata": {},
   "outputs": [],
   "source": [
    "n = float(input())\n",
    "\n",
    "if n>0:\n",
    "    print(f\"{n} is positive\")\n",
    "else:\n",
    "    print(f\"{n}is negative\")"
   ]
  },
  {
   "cell_type": "code",
   "execution_count": null,
   "id": "d888b94f",
   "metadata": {},
   "outputs": [],
   "source": [
    "n = float(input())\n",
    "\n",
    "if n > 0:\n",
    "    print(f\"{n} is positive\")\n",
    "else:\n",
    "    print(f\"{n} is negative\")"
   ]
  },
  {
   "cell_type": "code",
   "execution_count": null,
   "id": "3b51a907",
   "metadata": {},
   "outputs": [],
   "source": []
  },
  {
   "cell_type": "code",
   "execution_count": 90,
   "id": "2add35ae",
   "metadata": {},
   "outputs": [
    {
     "name": "stdout",
     "output_type": "stream",
     "text": [
      "Enter income within range 1 to 100:20\n",
      "you can not afford anything\n"
     ]
    }
   ],
   "source": [
    "\n",
    "income = float(input(\"Enter income within range 1 to 100:\"))\n",
    "\n",
    "if income > 50:\n",
    "    print(\"you can afford to buy bike\")\n",
    "    \n",
    "else:\n",
    "    print(\"you can not afford anything\")"
   ]
  },
  {
   "cell_type": "code",
   "execution_count": null,
   "id": "ef4027ff",
   "metadata": {},
   "outputs": [],
   "source": []
  },
  {
   "cell_type": "code",
   "execution_count": null,
   "id": "f50e32ae",
   "metadata": {},
   "outputs": [],
   "source": []
  }
 ],
 "metadata": {
  "kernelspec": {
   "display_name": "Python 3 (ipykernel)",
   "language": "python",
   "name": "python3"
  },
  "language_info": {
   "codemirror_mode": {
    "name": "ipython",
    "version": 3
   },
   "file_extension": ".py",
   "mimetype": "text/x-python",
   "name": "python",
   "nbconvert_exporter": "python",
   "pygments_lexer": "ipython3",
   "version": "3.11.5"
  }
 },
 "nbformat": 4,
 "nbformat_minor": 5
}
