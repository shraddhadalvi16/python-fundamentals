{
 "cells": [
  {
   "cell_type": "code",
   "execution_count": 3,
   "id": "c9c2b38d",
   "metadata": {},
   "outputs": [],
   "source": [
    "a ='INDIA IS GREAT NATION'"
   ]
  },
  {
   "cell_type": "code",
   "execution_count": 4,
   "id": "81af472c",
   "metadata": {},
   "outputs": [
    {
     "data": {
      "text/plain": [
       "'INDIA IS GREAT NATION'"
      ]
     },
     "execution_count": 4,
     "metadata": {},
     "output_type": "execute_result"
    }
   ],
   "source": [
    "a"
   ]
  },
  {
   "cell_type": "code",
   "execution_count": 5,
   "id": "f3d5a6cd",
   "metadata": {},
   "outputs": [
    {
     "data": {
      "text/plain": [
       "'India is great nation'"
      ]
     },
     "execution_count": 5,
     "metadata": {},
     "output_type": "execute_result"
    }
   ],
   "source": [
    "a.capitalize()"
   ]
  },
  {
   "cell_type": "code",
   "execution_count": 6,
   "id": "6c7aa1cb",
   "metadata": {},
   "outputs": [],
   "source": [
    "t =\"  mhoigdrsgv\""
   ]
  },
  {
   "cell_type": "code",
   "execution_count": 7,
   "id": "18d07c8e",
   "metadata": {},
   "outputs": [
    {
     "data": {
      "text/plain": [
       "'  mhoigdrsgv'"
      ]
     },
     "execution_count": 7,
     "metadata": {},
     "output_type": "execute_result"
    }
   ],
   "source": [
    "t"
   ]
  },
  {
   "cell_type": "code",
   "execution_count": 8,
   "id": "bf5178e9",
   "metadata": {},
   "outputs": [
    {
     "data": {
      "text/plain": [
       "'mhoigdrsgv'"
      ]
     },
     "execution_count": 8,
     "metadata": {},
     "output_type": "execute_result"
    }
   ],
   "source": [
    "t.strip()"
   ]
  },
  {
   "cell_type": "code",
   "execution_count": 9,
   "id": "54bb35de",
   "metadata": {},
   "outputs": [
    {
     "data": {
      "text/plain": [
       "'INDIA IS GREAT NATION'"
      ]
     },
     "execution_count": 9,
     "metadata": {},
     "output_type": "execute_result"
    }
   ],
   "source": [
    "a"
   ]
  },
  {
   "cell_type": "code",
   "execution_count": 12,
   "id": "6093a61c",
   "metadata": {},
   "outputs": [
    {
     "ename": "AttributeError",
     "evalue": "'list' object has no attribute 'split'",
     "output_type": "error",
     "traceback": [
      "\u001b[1;31m---------------------------------------------------------------------------\u001b[0m",
      "\u001b[1;31mAttributeError\u001b[0m                            Traceback (most recent call last)",
      "Cell \u001b[1;32mIn[12], line 1\u001b[0m\n\u001b[1;32m----> 1\u001b[0m a\u001b[38;5;241m=\u001b[39ma\u001b[38;5;241m.\u001b[39msplit()\n",
      "\u001b[1;31mAttributeError\u001b[0m: 'list' object has no attribute 'split'"
     ]
    }
   ],
   "source": [
    "a=a.split()"
   ]
  },
  {
   "cell_type": "code",
   "execution_count": 20,
   "id": "bb96b982",
   "metadata": {},
   "outputs": [],
   "source": [
    "t = 'india is my nation'"
   ]
  },
  {
   "cell_type": "code",
   "execution_count": 21,
   "id": "9eecf206",
   "metadata": {},
   "outputs": [
    {
     "data": {
      "text/plain": [
       "'india is my nation'"
      ]
     },
     "execution_count": 21,
     "metadata": {},
     "output_type": "execute_result"
    }
   ],
   "source": [
    "t"
   ]
  },
  {
   "cell_type": "code",
   "execution_count": 22,
   "id": "9ae11f66",
   "metadata": {},
   "outputs": [
    {
     "data": {
      "text/plain": [
       "['india', 'is', 'my', 'nation']"
      ]
     },
     "execution_count": 22,
     "metadata": {},
     "output_type": "execute_result"
    }
   ],
   "source": [
    "t.split()"
   ]
  },
  {
   "cell_type": "code",
   "execution_count": 23,
   "id": "27e2fac1",
   "metadata": {},
   "outputs": [
    {
     "data": {
      "text/plain": [
       "[]"
      ]
     },
     "execution_count": 23,
     "metadata": {},
     "output_type": "execute_result"
    }
   ],
   "source": [
    "list()"
   ]
  },
  {
   "cell_type": "code",
   "execution_count": 24,
   "id": "1092cca0",
   "metadata": {},
   "outputs": [],
   "source": [
    "t =[]"
   ]
  },
  {
   "cell_type": "code",
   "execution_count": 25,
   "id": "8971784e",
   "metadata": {},
   "outputs": [
    {
     "data": {
      "text/plain": [
       "[]"
      ]
     },
     "execution_count": 25,
     "metadata": {},
     "output_type": "execute_result"
    }
   ],
   "source": [
    "t"
   ]
  },
  {
   "cell_type": "code",
   "execution_count": 26,
   "id": "b6198fd8",
   "metadata": {},
   "outputs": [
    {
     "data": {
      "text/plain": [
       "list"
      ]
     },
     "execution_count": 26,
     "metadata": {},
     "output_type": "execute_result"
    }
   ],
   "source": [
    "type(t)"
   ]
  },
  {
   "cell_type": "code",
   "execution_count": 27,
   "id": "d0c93b59",
   "metadata": {},
   "outputs": [
    {
     "data": {
      "text/plain": [
       "0"
      ]
     },
     "execution_count": 27,
     "metadata": {},
     "output_type": "execute_result"
    }
   ],
   "source": [
    "len(t)"
   ]
  },
  {
   "cell_type": "code",
   "execution_count": 28,
   "id": "57dba4e5",
   "metadata": {},
   "outputs": [],
   "source": [
    "l =['INDIA',5,6.5,1+2j,True]"
   ]
  },
  {
   "cell_type": "code",
   "execution_count": 29,
   "id": "418a3331",
   "metadata": {},
   "outputs": [
    {
     "data": {
      "text/plain": [
       "['INDIA', 5, 6.5, (1+2j), True]"
      ]
     },
     "execution_count": 29,
     "metadata": {},
     "output_type": "execute_result"
    }
   ],
   "source": [
    "l"
   ]
  },
  {
   "cell_type": "code",
   "execution_count": 30,
   "id": "f2b3aa28",
   "metadata": {},
   "outputs": [
    {
     "data": {
      "text/plain": [
       "'INDIA'"
      ]
     },
     "execution_count": 30,
     "metadata": {},
     "output_type": "execute_result"
    }
   ],
   "source": [
    "l[0]"
   ]
  },
  {
   "cell_type": "code",
   "execution_count": 31,
   "id": "d8ebce7d",
   "metadata": {},
   "outputs": [
    {
     "data": {
      "text/plain": [
       "5"
      ]
     },
     "execution_count": 31,
     "metadata": {},
     "output_type": "execute_result"
    }
   ],
   "source": [
    "l[1]"
   ]
  },
  {
   "cell_type": "code",
   "execution_count": 32,
   "id": "a71eb5d9",
   "metadata": {},
   "outputs": [
    {
     "data": {
      "text/plain": [
       "True"
      ]
     },
     "execution_count": 32,
     "metadata": {},
     "output_type": "execute_result"
    }
   ],
   "source": [
    "l[-1]"
   ]
  },
  {
   "cell_type": "code",
   "execution_count": 33,
   "id": "2463d69e",
   "metadata": {},
   "outputs": [
    {
     "data": {
      "text/plain": [
       "5"
      ]
     },
     "execution_count": 33,
     "metadata": {},
     "output_type": "execute_result"
    }
   ],
   "source": [
    "len(l)"
   ]
  },
  {
   "cell_type": "code",
   "execution_count": 34,
   "id": "0e410601",
   "metadata": {},
   "outputs": [
    {
     "data": {
      "text/plain": [
       "['INDIA', 5, 6.5]"
      ]
     },
     "execution_count": 34,
     "metadata": {},
     "output_type": "execute_result"
    }
   ],
   "source": [
    "l[0:3]"
   ]
  },
  {
   "cell_type": "code",
   "execution_count": 35,
   "id": "e6a140df",
   "metadata": {},
   "outputs": [
    {
     "data": {
      "text/plain": [
       "[6.5, (1+2j), True]"
      ]
     },
     "execution_count": 35,
     "metadata": {},
     "output_type": "execute_result"
    }
   ],
   "source": [
    "l[2:5]"
   ]
  },
  {
   "cell_type": "code",
   "execution_count": 36,
   "id": "b4cc0891",
   "metadata": {},
   "outputs": [],
   "source": [
    "l1 =['INDIA',123,True]\n",
    "l2=['maharashtra',2587,False]"
   ]
  },
  {
   "cell_type": "code",
   "execution_count": 37,
   "id": "a741b358",
   "metadata": {},
   "outputs": [
    {
     "data": {
      "text/plain": [
       "['INDIA', 123, True]"
      ]
     },
     "execution_count": 37,
     "metadata": {},
     "output_type": "execute_result"
    }
   ],
   "source": [
    "l1"
   ]
  },
  {
   "cell_type": "code",
   "execution_count": 38,
   "id": "99486131",
   "metadata": {},
   "outputs": [
    {
     "data": {
      "text/plain": [
       "['maharashtra', 2587, False]"
      ]
     },
     "execution_count": 38,
     "metadata": {},
     "output_type": "execute_result"
    }
   ],
   "source": [
    "l2"
   ]
  },
  {
   "cell_type": "code",
   "execution_count": 39,
   "id": "fe8a45de",
   "metadata": {},
   "outputs": [],
   "source": [
    "l3 =l1+l2"
   ]
  },
  {
   "cell_type": "code",
   "execution_count": 40,
   "id": "f66302c3",
   "metadata": {},
   "outputs": [
    {
     "data": {
      "text/plain": [
       "['INDIA', 123, True, 'maharashtra', 2587, False]"
      ]
     },
     "execution_count": 40,
     "metadata": {},
     "output_type": "execute_result"
    }
   ],
   "source": [
    "l3"
   ]
  },
  {
   "cell_type": "code",
   "execution_count": 46,
   "id": "ad29deaf",
   "metadata": {},
   "outputs": [],
   "source": [
    "l3=l3+['PUNE']"
   ]
  },
  {
   "cell_type": "code",
   "execution_count": 47,
   "id": "b57b6ca9",
   "metadata": {},
   "outputs": [
    {
     "data": {
      "text/plain": [
       "123"
      ]
     },
     "execution_count": 47,
     "metadata": {},
     "output_type": "execute_result"
    }
   ],
   "source": [
    "l3.pop(0)"
   ]
  },
  {
   "cell_type": "code",
   "execution_count": 44,
   "id": "23baf86e",
   "metadata": {},
   "outputs": [
    {
     "data": {
      "text/plain": [
       "[123, True, 'maharashtra', 2587, False]"
      ]
     },
     "execution_count": 44,
     "metadata": {},
     "output_type": "execute_result"
    }
   ],
   "source": [
    "l3"
   ]
  },
  {
   "cell_type": "code",
   "execution_count": 48,
   "id": "648a37aa",
   "metadata": {},
   "outputs": [
    {
     "data": {
      "text/plain": [
       "[True, 'maharashtra', 2587, False, 'PUNE']"
      ]
     },
     "execution_count": 48,
     "metadata": {},
     "output_type": "execute_result"
    }
   ],
   "source": [
    "l3"
   ]
  },
  {
   "cell_type": "code",
   "execution_count": 49,
   "id": "7d5533ca",
   "metadata": {},
   "outputs": [
    {
     "data": {
      "text/plain": [
       "False"
      ]
     },
     "execution_count": 49,
     "metadata": {},
     "output_type": "execute_result"
    }
   ],
   "source": [
    "l3.pop(3)"
   ]
  },
  {
   "cell_type": "code",
   "execution_count": 50,
   "id": "ed11cc1c",
   "metadata": {},
   "outputs": [],
   "source": [
    "l3.insert(0,'JAY')"
   ]
  },
  {
   "cell_type": "code",
   "execution_count": 51,
   "id": "ca5f6a1d",
   "metadata": {},
   "outputs": [
    {
     "data": {
      "text/plain": [
       "['JAY', True, 'maharashtra', 2587, 'PUNE']"
      ]
     },
     "execution_count": 51,
     "metadata": {},
     "output_type": "execute_result"
    }
   ],
   "source": [
    "l3"
   ]
  },
  {
   "cell_type": "code",
   "execution_count": 53,
   "id": "62965ce6",
   "metadata": {},
   "outputs": [],
   "source": [
    "l3.insert(0,'INDIA')"
   ]
  },
  {
   "cell_type": "code",
   "execution_count": 54,
   "id": "490a5df3",
   "metadata": {},
   "outputs": [
    {
     "data": {
      "text/plain": [
       "['INDIA', 'INDIA', 'JAY', True, 'maharashtra', 2587, 'PUNE']"
      ]
     },
     "execution_count": 54,
     "metadata": {},
     "output_type": "execute_result"
    }
   ],
   "source": [
    "l3"
   ]
  },
  {
   "cell_type": "code",
   "execution_count": 55,
   "id": "a4b85fee",
   "metadata": {},
   "outputs": [],
   "source": [
    "l3.insert(-1,[1,2,3])"
   ]
  },
  {
   "cell_type": "code",
   "execution_count": 56,
   "id": "9da51cde",
   "metadata": {},
   "outputs": [
    {
     "data": {
      "text/plain": [
       "['INDIA', 'INDIA', 'JAY', True, 'maharashtra', 2587, [1, 2, 3], 'PUNE']"
      ]
     },
     "execution_count": 56,
     "metadata": {},
     "output_type": "execute_result"
    }
   ],
   "source": [
    "l3"
   ]
  },
  {
   "cell_type": "code",
   "execution_count": 58,
   "id": "1d7cab33",
   "metadata": {},
   "outputs": [
    {
     "data": {
      "text/plain": [
       "2"
      ]
     },
     "execution_count": 58,
     "metadata": {},
     "output_type": "execute_result"
    }
   ],
   "source": [
    "l3[-2][-2]"
   ]
  },
  {
   "cell_type": "code",
   "execution_count": 60,
   "id": "b347fae7",
   "metadata": {},
   "outputs": [
    {
     "data": {
      "text/plain": [
       "[1, 2, 3]"
      ]
     },
     "execution_count": 60,
     "metadata": {},
     "output_type": "execute_result"
    }
   ],
   "source": [
    "l3[6]"
   ]
  },
  {
   "cell_type": "code",
   "execution_count": 61,
   "id": "b7a4ea07",
   "metadata": {},
   "outputs": [
    {
     "data": {
      "text/plain": [
       "1"
      ]
     },
     "execution_count": 61,
     "metadata": {},
     "output_type": "execute_result"
    }
   ],
   "source": [
    "l3[6][0]"
   ]
  },
  {
   "cell_type": "code",
   "execution_count": 62,
   "id": "088acfaa",
   "metadata": {},
   "outputs": [
    {
     "data": {
      "text/plain": [
       "['PUNE', [1, 2, 3], 2587, 'maharashtra', True, 'JAY', 'INDIA', 'INDIA']"
      ]
     },
     "execution_count": 62,
     "metadata": {},
     "output_type": "execute_result"
    }
   ],
   "source": [
    "l3[::-1]"
   ]
  },
  {
   "cell_type": "code",
   "execution_count": 65,
   "id": "bcf21375",
   "metadata": {},
   "outputs": [],
   "source": [
    "l4 =[23,58,12,36,85,0,5,14]"
   ]
  },
  {
   "cell_type": "code",
   "execution_count": 66,
   "id": "9b95e4cc",
   "metadata": {},
   "outputs": [
    {
     "data": {
      "text/plain": [
       "[23, 58, 12, 36, 85, 0, 5, 14]"
      ]
     },
     "execution_count": 66,
     "metadata": {},
     "output_type": "execute_result"
    }
   ],
   "source": [
    "l4"
   ]
  },
  {
   "cell_type": "code",
   "execution_count": 67,
   "id": "a33cd11c",
   "metadata": {},
   "outputs": [],
   "source": [
    "l4.sort()"
   ]
  },
  {
   "cell_type": "code",
   "execution_count": 68,
   "id": "6cfe65e6",
   "metadata": {},
   "outputs": [
    {
     "data": {
      "text/plain": [
       "[0, 5, 12, 14, 23, 36, 58, 85]"
      ]
     },
     "execution_count": 68,
     "metadata": {},
     "output_type": "execute_result"
    }
   ],
   "source": [
    "l4"
   ]
  },
  {
   "cell_type": "code",
   "execution_count": 69,
   "id": "dd69352b",
   "metadata": {},
   "outputs": [
    {
     "data": {
      "text/plain": [
       "[85, 58, 36, 23, 14, 12, 5, 0]"
      ]
     },
     "execution_count": 69,
     "metadata": {},
     "output_type": "execute_result"
    }
   ],
   "source": [
    "l4.sort(reverse=True)\n",
    "l4"
   ]
  },
  {
   "cell_type": "code",
   "execution_count": 70,
   "id": "a3adcdc3",
   "metadata": {},
   "outputs": [],
   "source": [
    "l4.clear()"
   ]
  },
  {
   "cell_type": "code",
   "execution_count": 71,
   "id": "d8fc7af8",
   "metadata": {},
   "outputs": [
    {
     "data": {
      "text/plain": [
       "[]"
      ]
     },
     "execution_count": 71,
     "metadata": {},
     "output_type": "execute_result"
    }
   ],
   "source": [
    "l4"
   ]
  },
  {
   "cell_type": "markdown",
   "id": "38376e72",
   "metadata": {},
   "source": [
    "conditioning"
   ]
  },
  {
   "cell_type": "markdown",
   "id": "3a2d4ec6",
   "metadata": {},
   "source": [
    "# conditioning"
   ]
  },
  {
   "cell_type": "code",
   "execution_count": 78,
   "id": "df496ca7",
   "metadata": {},
   "outputs": [],
   "source": [
    "yash = 45"
   ]
  },
  {
   "cell_type": "code",
   "execution_count": 79,
   "id": "0ce6107a",
   "metadata": {},
   "outputs": [
    {
     "name": "stdout",
     "output_type": "stream",
     "text": [
      "yash: - PASS\n"
     ]
    }
   ],
   "source": [
    "if yash > 35:\n",
    "    print(\"yash: - PASS\")"
   ]
  },
  {
   "cell_type": "code",
   "execution_count": 75,
   "id": "2d80589f",
   "metadata": {},
   "outputs": [],
   "source": [
    "a = 20"
   ]
  },
  {
   "cell_type": "code",
   "execution_count": 76,
   "id": "06773bc8",
   "metadata": {},
   "outputs": [
    {
     "name": "stdout",
     "output_type": "stream",
     "text": [
      "a is greater than 10\n"
     ]
    }
   ],
   "source": [
    "if a>10:\n",
    "    print('a is greater than 10')"
   ]
  },
  {
   "cell_type": "code",
   "execution_count": 77,
   "id": "7377786a",
   "metadata": {},
   "outputs": [
    {
     "data": {
      "text/plain": [
       "False"
      ]
     },
     "execution_count": 77,
     "metadata": {},
     "output_type": "execute_result"
    }
   ],
   "source": [
    "a<10"
   ]
  },
  {
   "cell_type": "code",
   "execution_count": 83,
   "id": "f4aca64c",
   "metadata": {},
   "outputs": [
    {
     "name": "stdout",
     "output_type": "stream",
     "text": [
      "result:-FAIL\n"
     ]
    }
   ],
   "source": [
    "score = 9\n",
    "\n",
    "if score > 35:\n",
    "    print(\"result: - PASS\")\n",
    " \n",
    "else:\n",
    "    print(\"result:-FAIL\")\n",
    "    \n",
    "    "
   ]
  },
  {
   "cell_type": "code",
   "execution_count": null,
   "id": "f66db7f9",
   "metadata": {},
   "outputs": [],
   "source": []
  },
  {
   "cell_type": "code",
   "execution_count": null,
   "id": "e38adc3c",
   "metadata": {},
   "outputs": [],
   "source": []
  },
  {
   "cell_type": "code",
   "execution_count": 84,
   "id": "af4e76ad",
   "metadata": {},
   "outputs": [
    {
     "name": "stdout",
     "output_type": "stream",
     "text": [
      "1 is odd\n"
     ]
    }
   ],
   "source": [
    "n =1\n",
    "\n",
    "if n%2==0:\n",
    "    print(f'{n} is even')\n",
    "          \n",
    "else:\n",
    "          print(f\"{n} is odd\")"
   ]
  },
  {
   "cell_type": "code",
   "execution_count": 88,
   "id": "72fa5d6c",
   "metadata": {},
   "outputs": [
    {
     "name": "stdout",
     "output_type": "stream",
     "text": [
      "-5is negative\n"
     ]
    }
   ],
   "source": [
    "n = -5\n",
    "if n>0:\n",
    "    print(f\"{n} is positive\")\n",
    "else:\n",
    "    print(f\"{n}is negative\")"
   ]
  },
  {
   "cell_type": "code",
   "execution_count": null,
   "id": "841bd2e4",
   "metadata": {},
   "outputs": [],
   "source": [
    "n = float(input())\n",
    "\n",
    "if n>0:\n",
    "    print(f\"{n} is positive\")\n",
    "else:\n",
    "    print(f\"{n}is negative\")"
   ]
  },
  {
   "cell_type": "code",
   "execution_count": null,
   "id": "6ed3c01d",
   "metadata": {},
   "outputs": [],
   "source": [
    "n = float(input())\n",
    "\n",
    "if n > 0:\n",
    "    print(f\"{n} is positive\")\n",
    "else:\n",
    "    print(f\"{n} is negative\")"
   ]
  },
  {
   "cell_type": "code",
   "execution_count": null,
   "id": "3ac057fd",
   "metadata": {},
   "outputs": [],
   "source": []
  },
  {
   "cell_type": "code",
   "execution_count": 90,
   "id": "97c39ca8",
   "metadata": {},
   "outputs": [
    {
     "name": "stdout",
     "output_type": "stream",
     "text": [
      "Enter income within range 1 to 100:20\n",
      "you can not afford anything\n"
     ]
    }
   ],
   "source": [
    "\n",
    "income = float(input(\"Enter income within range 1 to 100:\"))\n",
    "\n",
    "if income > 50:\n",
    "    print(\"you can afford to buy bike\")\n",
    "    \n",
    "else:\n",
    "    print(\"you can not afford anything\")"
   ]
  },
  {
   "cell_type": "code",
   "execution_count": null,
   "id": "164254a7",
   "metadata": {},
   "outputs": [],
   "source": []
  },
  {
   "cell_type": "code",
   "execution_count": null,
   "id": "e37ef48f",
   "metadata": {},
   "outputs": [],
   "source": []
  }
 ],
 "metadata": {
  "kernelspec": {
   "display_name": "Python 3 (ipykernel)",
   "language": "python",
   "name": "python3"
  },
  "language_info": {
   "codemirror_mode": {
    "name": "ipython",
    "version": 3
   },
   "file_extension": ".py",
   "mimetype": "text/x-python",
   "name": "python",
   "nbconvert_exporter": "python",
   "pygments_lexer": "ipython3",
   "version": "3.11.5"
  }
 },
 "nbformat": 4,
 "nbformat_minor": 5
}
